{
 "cells": [
  {
   "cell_type": "code",
   "execution_count": 1,
   "id": "fc61efd6",
   "metadata": {},
   "outputs": [
    {
     "name": "stderr",
     "output_type": "stream",
     "text": [
      "F:\\Anaconda2\\envs\\Machinelearning\\lib\\site-packages\\tqdm\\auto.py:22: TqdmWarning: IProgress not found. Please update jupyter and ipywidgets. See https://ipywidgets.readthedocs.io/en/stable/user_install.html\n",
      "  from .autonotebook import tqdm as notebook_tqdm\n"
     ]
    },
    {
     "name": "stdout",
     "output_type": "stream",
     "text": [
      "Cornac version: 1.6.0\n",
      "Tensorflow version: 1.15.0\n"
     ]
    }
   ],
   "source": [
    "import pandas as pd\n",
    "\n",
    "import numpy as np\n",
    "import pandas as pd\n",
    "import seaborn as sns\n",
    "import matplotlib.pyplot as plt\n",
    "\n",
    "\n",
    "import cornac\n",
    "from cornac.eval_methods import RatioSplit, BaseMethod\n",
    "from cornac.models import WMF\n",
    "\n",
    "import tensorflow as tf\n",
    "\n",
    "print(f\"Cornac version: {cornac.__version__}\")\n",
    "print(f\"Tensorflow version: {tf.__version__}\")\n",
    "\n",
    "SEED = 42\n",
    "VERBOSE = False"
   ]
  },
  {
   "cell_type": "code",
   "execution_count": 2,
   "id": "579be311",
   "metadata": {},
   "outputs": [
    {
     "name": "stdout",
     "output_type": "stream",
     "text": [
      "                review_id                 user_id             business_id  \\\n",
      "0  KU_O5udG6zpxOg-VcAEodg  mh_-eMZ6K5RLWhZyISBhwA  XQfwVwDr-v0ZS3_CbbE5Xw   \n",
      "1  8JFGBuHMoiNDyfcxuWNtrA  smOvOajNG0lS4Pq7d8g4JQ  RZtGWDLCAtuipwaZ-UfjmQ   \n",
      "2  Xs8Z8lmKkosqW5mw_sVAoA  IQsF3Rc6IgCzjVV9DE8KXg  eFvzHawVJofxSnD7TgbZtg   \n",
      "3  J-4NdnDZ0pUQaUEEwDI9KQ  vrKkXsozqqecF3CW4cGaVQ  rjuWz_AD3WfXJc03AhIO_w   \n",
      "4  G_5UczbCBJriUAbxz3J7Tw  clWLI5OZP2ad25ugMVI8gg  x4XdNhp0Xn8lOivzc77J-g   \n",
      "\n",
      "   stars  useful  funny  cool  \\\n",
      "0    3.0       0      0     0   \n",
      "1    4.0       0      0     0   \n",
      "2    5.0       0      0     0   \n",
      "3    5.0       2      2     2   \n",
      "4    5.0       0      0     0   \n",
      "\n",
      "                                                text                 date  \n",
      "0  If you decide to eat here, just be aware it is...  2018-07-07 22:09:11  \n",
      "1  Good food--loved the gnocchi with marinara\\nth...  2009-10-14 19:57:14  \n",
      "2  My absolute favorite cafe in the city. Their b...  2014-11-12 15:30:27  \n",
      "3  I thoroughly enjoyed the show.  Chill way to s...  2012-12-04 16:46:20  \n",
      "4  Best thai food in the area.  Everything was au...  2013-08-15 15:27:51  \n"
     ]
    }
   ],
   "source": [
    "df = pd.read_csv('final_review_pa.csv',encoding='latin1')\n",
    "print(df.head())"
   ]
  },
  {
   "cell_type": "code",
   "execution_count": 3,
   "id": "539f1f84",
   "metadata": {},
   "outputs": [
    {
     "data": {
      "text/html": [
       "<div>\n",
       "<style scoped>\n",
       "    .dataframe tbody tr th:only-of-type {\n",
       "        vertical-align: middle;\n",
       "    }\n",
       "\n",
       "    .dataframe tbody tr th {\n",
       "        vertical-align: top;\n",
       "    }\n",
       "\n",
       "    .dataframe thead th {\n",
       "        text-align: right;\n",
       "    }\n",
       "</style>\n",
       "<table border=\"1\" class=\"dataframe\">\n",
       "  <thead>\n",
       "    <tr style=\"text-align: right;\">\n",
       "      <th></th>\n",
       "      <th>business_id</th>\n",
       "      <th>name</th>\n",
       "      <th>address</th>\n",
       "      <th>city</th>\n",
       "      <th>state</th>\n",
       "      <th>postal_code</th>\n",
       "      <th>latitude</th>\n",
       "      <th>longitude</th>\n",
       "      <th>stars</th>\n",
       "      <th>review_count</th>\n",
       "      <th>is_open</th>\n",
       "      <th>attributes</th>\n",
       "      <th>categories</th>\n",
       "      <th>hours</th>\n",
       "    </tr>\n",
       "  </thead>\n",
       "  <tbody>\n",
       "    <tr>\n",
       "      <th>0</th>\n",
       "      <td>Pns2l4eNsfO8kk83dixA6A</td>\n",
       "      <td>Abby Rappoport, LAC, CMQ</td>\n",
       "      <td>1616 Chapala St, Ste 2</td>\n",
       "      <td>Santa Barbara</td>\n",
       "      <td>CA</td>\n",
       "      <td>93101</td>\n",
       "      <td>34.426679</td>\n",
       "      <td>-119.711197</td>\n",
       "      <td>5.0</td>\n",
       "      <td>7</td>\n",
       "      <td>0</td>\n",
       "      <td>{'ByAppointmentOnly': 'True'}</td>\n",
       "      <td>Doctors, Traditional Chinese Medicine, Naturop...</td>\n",
       "      <td>NaN</td>\n",
       "    </tr>\n",
       "    <tr>\n",
       "      <th>1</th>\n",
       "      <td>mpf3x-BjTdTEA3yCZrAYPw</td>\n",
       "      <td>The UPS Store</td>\n",
       "      <td>87 Grasso Plaza Shopping Center</td>\n",
       "      <td>Affton</td>\n",
       "      <td>MO</td>\n",
       "      <td>63123</td>\n",
       "      <td>38.551126</td>\n",
       "      <td>-90.335695</td>\n",
       "      <td>3.0</td>\n",
       "      <td>15</td>\n",
       "      <td>1</td>\n",
       "      <td>{'BusinessAcceptsCreditCards': 'True'}</td>\n",
       "      <td>Shipping Centers, Local Services, Notaries, Ma...</td>\n",
       "      <td>{'Monday': '0:0-0:0', 'Tuesday': '8:0-18:30', ...</td>\n",
       "    </tr>\n",
       "    <tr>\n",
       "      <th>2</th>\n",
       "      <td>tUFrWirKiKi_TAnsVWINQQ</td>\n",
       "      <td>Target</td>\n",
       "      <td>5255 E Broadway Blvd</td>\n",
       "      <td>Tucson</td>\n",
       "      <td>AZ</td>\n",
       "      <td>85711</td>\n",
       "      <td>32.223236</td>\n",
       "      <td>-110.880452</td>\n",
       "      <td>3.5</td>\n",
       "      <td>22</td>\n",
       "      <td>0</td>\n",
       "      <td>{'BikeParking': 'True', 'BusinessAcceptsCredit...</td>\n",
       "      <td>Department Stores, Shopping, Fashion, Home &amp; G...</td>\n",
       "      <td>{'Monday': '8:0-22:0', 'Tuesday': '8:0-22:0', ...</td>\n",
       "    </tr>\n",
       "    <tr>\n",
       "      <th>3</th>\n",
       "      <td>MTSW4McQd7CbVtyjqoe9mw</td>\n",
       "      <td>St Honore Pastries</td>\n",
       "      <td>935 Race St</td>\n",
       "      <td>Philadelphia</td>\n",
       "      <td>PA</td>\n",
       "      <td>19107</td>\n",
       "      <td>39.955505</td>\n",
       "      <td>-75.155564</td>\n",
       "      <td>4.0</td>\n",
       "      <td>80</td>\n",
       "      <td>1</td>\n",
       "      <td>{'RestaurantsDelivery': 'False', 'OutdoorSeati...</td>\n",
       "      <td>Restaurants, Food, Bubble Tea, Coffee &amp; Tea, B...</td>\n",
       "      <td>{'Monday': '7:0-20:0', 'Tuesday': '7:0-20:0', ...</td>\n",
       "    </tr>\n",
       "    <tr>\n",
       "      <th>4</th>\n",
       "      <td>mWMc6_wTdE0EUBKIGXDVfA</td>\n",
       "      <td>Perkiomen Valley Brewery</td>\n",
       "      <td>101 Walnut St</td>\n",
       "      <td>Green Lane</td>\n",
       "      <td>PA</td>\n",
       "      <td>18054</td>\n",
       "      <td>40.338183</td>\n",
       "      <td>-75.471659</td>\n",
       "      <td>4.5</td>\n",
       "      <td>13</td>\n",
       "      <td>1</td>\n",
       "      <td>{'BusinessAcceptsCreditCards': 'True', 'Wheelc...</td>\n",
       "      <td>Brewpubs, Breweries, Food</td>\n",
       "      <td>{'Wednesday': '14:0-22:0', 'Thursday': '16:0-2...</td>\n",
       "    </tr>\n",
       "  </tbody>\n",
       "</table>\n",
       "</div>"
      ],
      "text/plain": [
       "              business_id                      name  \\\n",
       "0  Pns2l4eNsfO8kk83dixA6A  Abby Rappoport, LAC, CMQ   \n",
       "1  mpf3x-BjTdTEA3yCZrAYPw             The UPS Store   \n",
       "2  tUFrWirKiKi_TAnsVWINQQ                    Target   \n",
       "3  MTSW4McQd7CbVtyjqoe9mw        St Honore Pastries   \n",
       "4  mWMc6_wTdE0EUBKIGXDVfA  Perkiomen Valley Brewery   \n",
       "\n",
       "                           address           city state postal_code  \\\n",
       "0           1616 Chapala St, Ste 2  Santa Barbara    CA       93101   \n",
       "1  87 Grasso Plaza Shopping Center         Affton    MO       63123   \n",
       "2             5255 E Broadway Blvd         Tucson    AZ       85711   \n",
       "3                      935 Race St   Philadelphia    PA       19107   \n",
       "4                    101 Walnut St     Green Lane    PA       18054   \n",
       "\n",
       "    latitude   longitude  stars  review_count  is_open  \\\n",
       "0  34.426679 -119.711197    5.0             7        0   \n",
       "1  38.551126  -90.335695    3.0            15        1   \n",
       "2  32.223236 -110.880452    3.5            22        0   \n",
       "3  39.955505  -75.155564    4.0            80        1   \n",
       "4  40.338183  -75.471659    4.5            13        1   \n",
       "\n",
       "                                          attributes  \\\n",
       "0                      {'ByAppointmentOnly': 'True'}   \n",
       "1             {'BusinessAcceptsCreditCards': 'True'}   \n",
       "2  {'BikeParking': 'True', 'BusinessAcceptsCredit...   \n",
       "3  {'RestaurantsDelivery': 'False', 'OutdoorSeati...   \n",
       "4  {'BusinessAcceptsCreditCards': 'True', 'Wheelc...   \n",
       "\n",
       "                                          categories  \\\n",
       "0  Doctors, Traditional Chinese Medicine, Naturop...   \n",
       "1  Shipping Centers, Local Services, Notaries, Ma...   \n",
       "2  Department Stores, Shopping, Fashion, Home & G...   \n",
       "3  Restaurants, Food, Bubble Tea, Coffee & Tea, B...   \n",
       "4                          Brewpubs, Breweries, Food   \n",
       "\n",
       "                                               hours  \n",
       "0                                                NaN  \n",
       "1  {'Monday': '0:0-0:0', 'Tuesday': '8:0-18:30', ...  \n",
       "2  {'Monday': '8:0-22:0', 'Tuesday': '8:0-22:0', ...  \n",
       "3  {'Monday': '7:0-20:0', 'Tuesday': '7:0-20:0', ...  \n",
       "4  {'Wednesday': '14:0-22:0', 'Thursday': '16:0-2...  "
      ]
     },
     "execution_count": 3,
     "metadata": {},
     "output_type": "execute_result"
    }
   ],
   "source": [
    "df2=pd.read_csv('business.csv',encoding='latin1')\n",
    "df2.head()"
   ]
  },
  {
   "cell_type": "code",
   "execution_count": 4,
   "id": "b6077222",
   "metadata": {},
   "outputs": [
    {
     "name": "stdout",
     "output_type": "stream",
     "text": [
      "state\n",
      "PA    588270\n",
      "dtype: int64\n"
     ]
    }
   ],
   "source": [
    "df3=pd.merge(df, df2, on='business_id')\n",
    "print(df3.groupby('state').size())"
   ]
  },
  {
   "cell_type": "code",
   "execution_count": 6,
   "id": "b6e9b2b7",
   "metadata": {},
   "outputs": [
    {
     "name": "stdout",
     "output_type": "stream",
     "text": [
      "411789\n"
     ]
    }
   ],
   "source": [
    "df3['date']=pd.to_datetime(df3['date'])\n",
    "df3=df3.sort_values(by=\"date\")\n",
    "df4=df3[df3['state']=='PA'][['user_id','name','stars_x']].reset_index(drop=True)\n",
    "splitindex=int(len(list(df4['user_id']))*0.7)\n",
    "print(splitindex)\n",
    "train_ratings=df4.iloc[:splitindex,:].reset_index(drop=True)\n",
    "test_ratings=df4.iloc[splitindex:,:].reset_index(drop=True)"
   ]
  },
  {
   "cell_type": "code",
   "execution_count": 29,
   "id": "1b64f918",
   "metadata": {},
   "outputs": [
    {
     "name": "stdout",
     "output_type": "stream",
     "text": [
      "ERROR! Session/line number was not unique in database. History logging moved to new session 671\n"
     ]
    },
    {
     "name": "stderr",
     "output_type": "stream",
     "text": [
      "F:\\Anaconda2\\envs\\Machinelearning\\lib\\site-packages\\cornac\\data\\dataset.py:361: UserWarning: 17600 duplicated observations are removed!\n",
      "  warnings.warn(\"%d duplicated observations are removed!\" % dup_count)\n",
      "F:\\Anaconda2\\envs\\Machinelearning\\lib\\site-packages\\cornac\\data\\dataset.py:361: UserWarning: 7911 duplicated observations are removed!\n",
      "  warnings.warn(\"%d duplicated observations are removed!\" % dup_count)\n"
     ]
    },
    {
     "name": "stdout",
     "output_type": "stream",
     "text": [
      "\n",
      "TEST:\n",
      "...\n",
      "           |   RMSE |    AUC |  F1@10 |    MAP |    MRR | NDCG@10 | NDCG@20 | NDCG@30 | Precision@10 | Recall@10 | Train (s) | Test (s)\n",
      "---------- + ------ + ------ + ------ + ------ + ------ + ------- + ------- + ------- + ------------ + --------- + --------- + --------\n",
      "WMF(K=50)  | 2.3104 | 0.5325 | 0.0145 | 0.0143 | 0.0512 |  0.0217 |  0.0260 |  0.0298 |       0.0137 |    0.0240 | 1492.5668 | 142.7046\n",
      "WMF(K=70)  | 2.3238 | 0.5252 | 0.0153 | 0.0154 | 0.0542 |  0.0235 |  0.0280 |  0.0316 |       0.0142 |    0.0265 | 1540.1369 | 144.8059\n",
      "WMF(K=90)  | 2.3323 | 0.5177 | 0.0152 | 0.0156 | 0.0537 |  0.0235 |  0.0282 |  0.0321 |       0.0139 |    0.0267 | 1520.5920 | 125.8480\n",
      "WMF(K=110) | 2.3416 | 0.5132 | 0.0158 | 0.0159 | 0.0542 |  0.0242 |  0.0291 |  0.0330 |       0.0144 |    0.0281 | 1555.6768 | 126.2943\n",
      "WMF(K=130) | 2.3501 | 0.5095 | 0.0159 | 0.0162 | 0.0548 |  0.0246 |  0.0297 |  0.0334 |       0.0145 |    0.0283 | 1645.4923 | 128.0047\n",
      "WMF(K=150) | 2.3573 | 0.5050 | 0.0158 | 0.0162 | 0.0545 |  0.0248 |  0.0295 |  0.0330 |       0.0143 |    0.0289 | 1730.4650 | 127.8610\n",
      "\n"
     ]
    }
   ],
   "source": [
    "wmf1 = WMF(k=50, max_iter=100, a=1.0, b=0.01, learning_rate=0.001, lambda_u=0.01, lambda_v=0.01,\n",
    "          verbose=VERBOSE, seed=SEED, name=f\"WMF(K={50})\")\n",
    "wmf2 = WMF(k=70, max_iter=100, a=1.0, b=0.01, learning_rate=0.001, lambda_u=0.01, lambda_v=0.01,\n",
    "          verbose=VERBOSE, seed=SEED, name=f\"WMF(K={70})\")\n",
    "wmf3 = WMF(k=90, max_iter=100, a=1.0, b=0.01, learning_rate=0.001, lambda_u=0.01, lambda_v=0.01,\n",
    "          verbose=VERBOSE, seed=SEED, name=f\"WMF(K={90})\")\n",
    "wmf4 = WMF(k=110, max_iter=100, a=1.0, b=0.01, learning_rate=0.001, lambda_u=0.01, lambda_v=0.01,\n",
    "          verbose=VERBOSE, seed=SEED, name=f\"WMF(K={110})\")\n",
    "wmf5 = WMF(k=130, max_iter=100, a=1.0, b=0.01, learning_rate=0.001, lambda_u=0.01, lambda_v=0.01,\n",
    "          verbose=VERBOSE, seed=SEED, name=f\"WMF(K={130})\")\n",
    "wmf6 = WMF(k=150, max_iter=100, a=1.0, b=0.01, learning_rate=0.001, lambda_u=0.01, lambda_v=0.01,\n",
    "          verbose=VERBOSE, seed=SEED, name=f\"WMF(K={150})\")\n",
    "\n",
    "eval_metrics = [\n",
    "  cornac.metrics.RMSE(), \n",
    "  cornac.metrics.AUC(),\n",
    "  cornac.metrics.Precision(k=10),\n",
    "  cornac.metrics.Recall(k=10),\n",
    "  cornac.metrics.FMeasure(k=10),\n",
    "  cornac.metrics.NDCG(k=[10, 20, 30]),\n",
    "  cornac.metrics.MRR(),\n",
    "  cornac.metrics.MAP()\n",
    "]\n",
    "\n",
    "base_method=BaseMethod.from_splits(\n",
    "    train_ratings.to_records(index=False),\n",
    "    test_ratings.to_records(index=False),\n",
    "    rating_threshold=4.0,\n",
    "    exclude_unknowns=False,\n",
    "    verbose=VERBOSE,\n",
    "    seed=SEED\n",
    ")\n",
    "\n",
    "cornac.Experiment(eval_method=base_method, models=[wmf1,wmf2,wmf3,wmf4,wmf5,wmf6], metrics=eval_metrics).run()"
   ]
  },
  {
   "cell_type": "code",
   "execution_count": 8,
   "id": "ac6764c8",
   "metadata": {},
   "outputs": [
    {
     "name": "stdout",
     "output_type": "stream",
     "text": [
      "26763\n",
      "26337\n",
      "<class 'pandas.core.frame.DataFrame'>\n",
      "RangeIndex: 588270 entries, 0 to 588269\n",
      "Data columns (total 3 columns):\n",
      " #   Column   Non-Null Count   Dtype  \n",
      "---  ------   --------------   -----  \n",
      " 0   user_id  588270 non-null  object \n",
      " 1   name     588270 non-null  object \n",
      " 2   stars_x  588270 non-null  float64\n",
      "dtypes: float64(1), object(2)\n",
      "memory usage: 13.5+ MB\n",
      "None\n"
     ]
    }
   ],
   "source": [
    "print(df4['user_id'].nunique())\n",
    "print(df4['name'].nunique())\n",
    "print(df4.info())"
   ]
  }
 ],
 "metadata": {
  "kernelspec": {
   "display_name": "Python 3 (ipykernel)",
   "language": "python",
   "name": "python3"
  },
  "language_info": {
   "codemirror_mode": {
    "name": "ipython",
    "version": 3
   },
   "file_extension": ".py",
   "mimetype": "text/x-python",
   "name": "python",
   "nbconvert_exporter": "python",
   "pygments_lexer": "ipython3",
   "version": "3.9.7"
  }
 },
 "nbformat": 4,
 "nbformat_minor": 5
}
