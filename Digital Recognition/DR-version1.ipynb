{
 "cells": [
  {
   "cell_type": "code",
   "execution_count": null,
   "metadata": {
    "_cell_guid": "b1076dfc-b9ad-4769-8c92-a6c4dae69d19",
    "_uuid": "8f2839f25d086af736a60e9eeb907d3b93b6e0e5",
    "execution": {
     "iopub.execute_input": "2022-02-02T23:45:43.096401Z",
     "iopub.status.busy": "2022-02-02T23:45:43.096114Z",
     "iopub.status.idle": "2022-02-02T23:45:48.599283Z",
     "shell.execute_reply": "2022-02-02T23:45:48.597839Z",
     "shell.execute_reply.started": "2022-02-02T23:45:43.096322Z"
    }
   },
   "outputs": [],
   "source": [
    "import numpy as np # linear algebra\n",
    "import pandas as pd # data processing, CSV file I/O (e.g. pd.read_csv)\n",
    "from tensorflow import keras\n",
    "from tensorflow.keras import layers\n",
    "from tensorflow.keras.layers.experimental import preprocessing\n",
    "from sklearn.model_selection import train_test_split\n",
    "import matplotlib.pyplot as plt\n",
    "import matplotlib.cm as cm\n",
    "\n",
    "# set seed for reproducibility\n",
    "np.random.seed(0)\n",
    "\n",
    "# Input data files are available in the read-only \"../input/\" directory\n",
    "# For example, running this (by clicking run or pressing Shift+Enter) will list all files under the input directory\n",
    "\n",
    "import os\n",
    "for dirname, _, filenames in os.walk('/kaggle/input'):\n",
    "    for filename in filenames:\n",
    "        print(os.path.join(dirname, filename))\n",
    "\n",
    "# You can write up to 20GB to the current directory (/kaggle/working/) that gets preserved as output when you create a version using \"Save & Run All\" \n",
    "# You can also write temporary files to /kaggle/temp/, but they won't be saved outside of the current session"
   ]
  },
  {
   "cell_type": "markdown",
   "metadata": {},
   "source": [
    "## Reading the dataset"
   ]
  },
  {
   "cell_type": "code",
   "execution_count": null,
   "metadata": {
    "execution": {
     "iopub.execute_input": "2022-02-02T23:45:48.601434Z",
     "iopub.status.busy": "2022-02-02T23:45:48.601188Z",
     "iopub.status.idle": "2022-02-02T23:45:53.497058Z",
     "shell.execute_reply": "2022-02-02T23:45:53.496375Z",
     "shell.execute_reply.started": "2022-02-02T23:45:48.601397Z"
    }
   },
   "outputs": [],
   "source": [
    "# read the data\n",
    "df_train = pd.read_csv('/kaggle/input/digit-recognizer/train.csv')\n",
    "df_test = pd.read_csv(\"/kaggle/input/digit-recognizer/test.csv\")\n",
    "\n",
    "df_train.shape, df_test.shape"
   ]
  },
  {
   "cell_type": "code",
   "execution_count": null,
   "metadata": {
    "execution": {
     "iopub.execute_input": "2022-02-02T23:45:53.498635Z",
     "iopub.status.busy": "2022-02-02T23:45:53.498375Z",
     "iopub.status.idle": "2022-02-02T23:45:53.52133Z",
     "shell.execute_reply": "2022-02-02T23:45:53.520553Z",
     "shell.execute_reply.started": "2022-02-02T23:45:53.4986Z"
    }
   },
   "outputs": [],
   "source": [
    "# inspect the train dataset\n",
    "df_train.head()"
   ]
  },
  {
   "cell_type": "code",
   "execution_count": null,
   "metadata": {
    "execution": {
     "iopub.execute_input": "2022-02-02T23:45:53.522987Z",
     "iopub.status.busy": "2022-02-02T23:45:53.522743Z",
     "iopub.status.idle": "2022-02-02T23:45:53.610975Z",
     "shell.execute_reply": "2022-02-02T23:45:53.610016Z",
     "shell.execute_reply.started": "2022-02-02T23:45:53.522955Z"
    }
   },
   "outputs": [],
   "source": [
    "# split the features X and the target y\n",
    "X = df_train.drop(columns='label')\n",
    "y = df_train['label']\n",
    "\n",
    "# inspect the shape of the features X & the target y\n",
    "X.shape, y.shape"
   ]
  },
  {
   "cell_type": "code",
   "execution_count": null,
   "metadata": {
    "execution": {
     "iopub.execute_input": "2022-02-02T23:45:53.613819Z",
     "iopub.status.busy": "2022-02-02T23:45:53.613471Z",
     "iopub.status.idle": "2022-02-02T23:45:53.86672Z",
     "shell.execute_reply": "2022-02-02T23:45:53.865902Z",
     "shell.execute_reply.started": "2022-02-02T23:45:53.613782Z"
    }
   },
   "outputs": [],
   "source": [
    "# split the dataset \n",
    "X_train, X_val, y_train, y_val = train_test_split(X, y, test_size=0.3, random_state=42)\n",
    "\n",
    "# inpect the shapes\n",
    "X_train.shape, X_val.shape, y_train.shape, y_val.shape"
   ]
  },
  {
   "cell_type": "markdown",
   "metadata": {},
   "source": [
    "to plot the numbers we need to convert the first row in the dataframe to a numpy array, & then reshape it by (28,28) to look like an image."
   ]
  },
  {
   "cell_type": "code",
   "execution_count": null,
   "metadata": {
    "execution": {
     "iopub.execute_input": "2022-02-02T23:45:53.868485Z",
     "iopub.status.busy": "2022-02-02T23:45:53.868216Z",
     "iopub.status.idle": "2022-02-02T23:45:54.05533Z",
     "shell.execute_reply": "2022-02-02T23:45:54.054706Z",
     "shell.execute_reply.started": "2022-02-02T23:45:53.86845Z"
    }
   },
   "outputs": [],
   "source": [
    "# view the first number\n",
    "plt.imshow(X_train.to_numpy()[0].reshape(28, 28))  # (rows, columns)\n",
    "# the label of the first number\n",
    "plt.title(f\"Digit: {y_train[0]}\")\n",
    "plt.show() "
   ]
  },
  {
   "cell_type": "markdown",
   "metadata": {},
   "source": [
    "### View an Image in More Detail"
   ]
  },
  {
   "cell_type": "code",
   "execution_count": null,
   "metadata": {
    "execution": {
     "iopub.execute_input": "2022-02-02T23:45:54.056702Z",
     "iopub.status.busy": "2022-02-02T23:45:54.056451Z",
     "iopub.status.idle": "2022-02-02T23:45:58.146478Z",
     "shell.execute_reply": "2022-02-02T23:45:58.145813Z",
     "shell.execute_reply.started": "2022-02-02T23:45:54.056668Z"
    }
   },
   "outputs": [],
   "source": [
    "def visualize_input(img, ax):\n",
    "    ax.imshow(img, cmap='gray')\n",
    "    width, height = img.shape\n",
    "    thresh = img.max()/2.5\n",
    "    for x in range(width):\n",
    "        for y in range(height):\n",
    "            ax.annotate(str(round(img[x][y],2)), xy=(y,x),\n",
    "                        horizontalalignment='center',\n",
    "                        verticalalignment='center',\n",
    "                        color='white' if img[x][y]<thresh else 'black')\n",
    "\n",
    "fig = plt.figure(figsize = (12,12)) \n",
    "ax = fig.add_subplot(111)\n",
    "visualize_input(X_train.to_numpy()[0].reshape(28, 28), ax)  # pass image (28, 28)"
   ]
  },
  {
   "cell_type": "markdown",
   "metadata": {},
   "source": [
    "## Pre-prossesing"
   ]
  },
  {
   "cell_type": "code",
   "execution_count": null,
   "metadata": {
    "execution": {
     "iopub.execute_input": "2022-02-02T23:45:58.148101Z",
     "iopub.status.busy": "2022-02-02T23:45:58.147784Z",
     "iopub.status.idle": "2022-02-02T23:45:58.154181Z",
     "shell.execute_reply": "2022-02-02T23:45:58.153339Z",
     "shell.execute_reply.started": "2022-02-02T23:45:58.148063Z"
    }
   },
   "outputs": [],
   "source": [
    "# convert the date frame to numpay array to feed it to the model\n",
    "# convert the train dataset\n",
    "X_train = X_train.to_numpy()\n",
    "y_train = y_train.to_numpy()\n",
    "\n",
    "# convert the validation dataset\n",
    "X_val = X_val.to_numpy()\n",
    "y_val = y_val.to_numpy()"
   ]
  },
  {
   "cell_type": "markdown",
   "metadata": {},
   "source": [
    "### Scale the pixel values"
   ]
  },
  {
   "cell_type": "code",
   "execution_count": null,
   "metadata": {
    "execution": {
     "iopub.execute_input": "2022-02-02T23:45:58.15608Z",
     "iopub.status.busy": "2022-02-02T23:45:58.155422Z",
     "iopub.status.idle": "2022-02-02T23:45:58.342312Z",
     "shell.execute_reply": "2022-02-02T23:45:58.341718Z",
     "shell.execute_reply.started": "2022-02-02T23:45:58.156042Z"
    }
   },
   "outputs": [],
   "source": [
    "# plot the pixels distributions\n",
    "plt.hist(X_train[0].reshape(784))\n",
    "plt.title(\"Pixel Values Distribution\")\n",
    "plt.show()"
   ]
  },
  {
   "cell_type": "markdown",
   "metadata": {},
   "source": [
    "the pixel values range from 0 to 255: the background majority close to 0, and those close to 255 representing the digit.\n",
    "\n",
    "Scaling the input data helps to speed up the training. Also, it reduces the chance of getting stuck in local optima, since we're using stochastic gradient descent to find the optimal weights for the network.\n",
    "\n",
    "Neural network activations generally like their inputs to be Scaled. Scalling inputs to nodes in a network helps prevent the so-called vanishing (and exploding) gradients.\n",
    "\n",
    "Let's reshape our inputs to a single vector vector and scale the pixel values to lie between 0 and 1."
   ]
  },
  {
   "cell_type": "code",
   "execution_count": null,
   "metadata": {
    "execution": {
     "iopub.execute_input": "2022-02-02T23:45:58.343676Z",
     "iopub.status.busy": "2022-02-02T23:45:58.343425Z",
     "iopub.status.idle": "2022-02-02T23:45:58.450877Z",
     "shell.execute_reply": "2022-02-02T23:45:58.450079Z",
     "shell.execute_reply.started": "2022-02-02T23:45:58.343641Z"
    }
   },
   "outputs": [],
   "source": [
    "# Scaling the features' pixels\n",
    "X_train = X_train / 255 # over number of pixels\n",
    "X_val = X_val / 255     # over number of pixels"
   ]
  },
  {
   "cell_type": "code",
   "execution_count": null,
   "metadata": {
    "execution": {
     "iopub.execute_input": "2022-02-02T23:45:58.45247Z",
     "iopub.status.busy": "2022-02-02T23:45:58.452133Z",
     "iopub.status.idle": "2022-02-02T23:45:58.666692Z",
     "shell.execute_reply": "2022-02-02T23:45:58.665957Z",
     "shell.execute_reply.started": "2022-02-02T23:45:58.452433Z"
    }
   },
   "outputs": [],
   "source": [
    "# plot the pixels distributions after Scaling\n",
    "plt.hist(X_train[0].reshape(784))\n",
    "plt.title(\"Pixel Values Distribution after Scaling\")\n",
    "plt.show()"
   ]
  },
  {
   "cell_type": "code",
   "execution_count": null,
   "metadata": {
    "execution": {
     "iopub.execute_input": "2022-02-02T23:45:58.668467Z",
     "iopub.status.busy": "2022-02-02T23:45:58.668184Z",
     "iopub.status.idle": "2022-02-02T23:46:03.268078Z",
     "shell.execute_reply": "2022-02-02T23:46:03.267342Z",
     "shell.execute_reply.started": "2022-02-02T23:45:58.66843Z"
    }
   },
   "outputs": [],
   "source": [
    "def visualize_input(img, ax):\n",
    "    ax.imshow(img, cmap='gray')\n",
    "    width, height = img.shape\n",
    "    thresh = img.max()/2.5\n",
    "    for x in range(width):\n",
    "        for y in range(height):\n",
    "            ax.annotate(str(round(img[x][y],2)), xy=(y,x),\n",
    "                        horizontalalignment='center',\n",
    "                        verticalalignment='center',\n",
    "                        color='white' if img[x][y]<thresh else 'black')\n",
    "\n",
    "fig = plt.figure(figsize = (12,12)) \n",
    "ax = fig.add_subplot(111)\n",
    "visualize_input(X_train[0].reshape(28, 28), ax)  # pass image (28, 28)"
   ]
  },
  {
   "cell_type": "markdown",
   "metadata": {},
   "source": [
    "### One-hot Encoding"
   ]
  },
  {
   "cell_type": "code",
   "execution_count": null,
   "metadata": {
    "execution": {
     "iopub.execute_input": "2022-02-02T23:46:03.269287Z",
     "iopub.status.busy": "2022-02-02T23:46:03.26906Z",
     "iopub.status.idle": "2022-02-02T23:46:03.276972Z",
     "shell.execute_reply": "2022-02-02T23:46:03.27631Z",
     "shell.execute_reply.started": "2022-02-02T23:46:03.269257Z"
    }
   },
   "outputs": [],
   "source": [
    "np.unique(y_train, return_counts=True)"
   ]
  },
  {
   "attachments": {
    "7eccad16-57f2-4881-812b-50c3df102c32.jpg": {
     "image/jpeg": "[encoded data removed]"
    }
   },
   "cell_type": "markdown",
   "metadata": {},
   "source": [
    "Let's encode our categories - digits from 0 to 9 - using one-hot encoding. The result is a vector with a length equal to the number of categories. The vector is all zeroes except in the position for the respective category. Thus a `'5'` will be represented by `[0,0,0,0,1,0,0,0,0]`.\n",
    "\n",
    "![human_transpose.jpg](attachment:7eccad16-57f2-4881-812b-50c3df102c32.jpg)"
   ]
  },
  {
   "cell_type": "code",
   "execution_count": null,
   "metadata": {
    "execution": {
     "iopub.execute_input": "2022-02-02T23:46:03.280985Z",
     "iopub.status.busy": "2022-02-02T23:46:03.280406Z",
     "iopub.status.idle": "2022-02-02T23:46:03.286426Z",
     "shell.execute_reply": "2022-02-02T23:46:03.285668Z",
     "shell.execute_reply.started": "2022-02-02T23:46:03.280947Z"
    }
   },
   "outputs": [],
   "source": [
    "# Encoding the target\n",
    "y_train = keras.utils.to_categorical(y_train, num_classes=10)\n",
    "y_val = keras.utils.to_categorical(y_val, num_classes=10)"
   ]
  },
  {
   "cell_type": "code",
   "execution_count": null,
   "metadata": {
    "execution": {
     "iopub.execute_input": "2022-02-02T23:46:03.289079Z",
     "iopub.status.busy": "2022-02-02T23:46:03.288868Z",
     "iopub.status.idle": "2022-02-02T23:46:03.29629Z",
     "shell.execute_reply": "2022-02-02T23:46:03.295516Z",
     "shell.execute_reply.started": "2022-02-02T23:46:03.289056Z"
    }
   },
   "outputs": [],
   "source": [
    "# inspect the input shape of the network to feed it to the model\n",
    "[X_train.shape[1]]"
   ]
  },
  {
   "cell_type": "markdown",
   "metadata": {},
   "source": [
    "## Modeling"
   ]
  },
  {
   "cell_type": "code",
   "execution_count": null,
   "metadata": {
    "execution": {
     "iopub.execute_input": "2022-02-02T23:46:03.29834Z",
     "iopub.status.busy": "2022-02-02T23:46:03.29779Z",
     "iopub.status.idle": "2022-02-02T23:46:05.315559Z",
     "shell.execute_reply": "2022-02-02T23:46:05.314773Z",
     "shell.execute_reply.started": "2022-02-02T23:46:03.298303Z"
    }
   },
   "outputs": [],
   "source": [
    "# build the model\n",
    "model = keras.Sequential([\n",
    "   \n",
    "    # The model\n",
    "    layers.Dense(516, activation='relu'),\n",
    "    layers.Dropout(0.7),\n",
    "    layers.Dense(1024, activation='relu'),\n",
    "    layers.Dropout(0.1),\n",
    "    layers.Dense(10, activation='softmax')    \n",
    "])"
   ]
  },
  {
   "cell_type": "markdown",
   "metadata": {},
   "source": [
    "Before training a model in Keras, we need to specify an *optimizer* to perform the gradient descent, a *loss function* to be minimized, and (optionally) any *performance metrics*. The optimization algorithm we'll use for this course is called [\"Adam\"](https://keras.io/api/optimizers/adam/), which generally performs well regardless of what kind of problem you're trying to solve."
   ]
  },
  {
   "cell_type": "code",
   "execution_count": null,
   "metadata": {
    "execution": {
     "iopub.execute_input": "2022-02-02T23:46:05.317253Z",
     "iopub.status.busy": "2022-02-02T23:46:05.316844Z",
     "iopub.status.idle": "2022-02-02T23:46:05.507183Z",
     "shell.execute_reply": "2022-02-02T23:46:05.506425Z",
     "shell.execute_reply.started": "2022-02-02T23:46:05.317214Z"
    }
   },
   "outputs": [],
   "source": [
    "# compiling the sequential model\n",
    "model.compile(optimizer='Adam',\n",
    "              loss='categorical_crossentropy',\n",
    "              metrics=['categorical_accuracy'])"
   ]
  },
  {
   "cell_type": "code",
   "execution_count": null,
   "metadata": {
    "execution": {
     "iopub.execute_input": "2022-02-02T23:46:05.508723Z",
     "iopub.status.busy": "2022-02-02T23:46:05.508469Z",
     "iopub.status.idle": "2022-02-02T23:46:05.512735Z",
     "shell.execute_reply": "2022-02-02T23:46:05.511924Z",
     "shell.execute_reply.started": "2022-02-02T23:46:05.508691Z"
    }
   },
   "outputs": [],
   "source": [
    "# initiate early stopping to prevent overfitting\n",
    "early_stopping = keras.callbacks.EarlyStopping(\n",
    "    patience=4,\n",
    "    min_delta=0.001,\n",
    "    restore_best_weights=True,\n",
    ")"
   ]
  },
  {
   "cell_type": "markdown",
   "metadata": {},
   "source": [
    "Generally the bigger the batch, the more stable our stochastic gradient descent updates will be. But beware of GPU memory limitations! We're going for a batch size of 128 and 25 epochs."
   ]
  },
  {
   "cell_type": "code",
   "execution_count": null,
   "metadata": {
    "execution": {
     "iopub.execute_input": "2022-02-02T23:46:05.514308Z",
     "iopub.status.busy": "2022-02-02T23:46:05.514057Z",
     "iopub.status.idle": "2022-02-02T23:46:17.242731Z",
     "shell.execute_reply": "2022-02-02T23:46:17.241936Z",
     "shell.execute_reply.started": "2022-02-02T23:46:05.514268Z"
    }
   },
   "outputs": [],
   "source": [
    "# train the model\n",
    "training = model.fit(\n",
    "    X_train, y_train,\n",
    "    validation_data=(X_val, y_val),\n",
    "    batch_size=128,\n",
    "    epochs=25,\n",
    "    callbacks=[early_stopping],\n",
    "    verbose=0\n",
    ")"
   ]
  },
  {
   "cell_type": "code",
   "execution_count": null,
   "metadata": {
    "execution": {
     "iopub.execute_input": "2022-02-02T23:46:17.244462Z",
     "iopub.status.busy": "2022-02-02T23:46:17.24421Z",
     "iopub.status.idle": "2022-02-02T23:46:17.253194Z",
     "shell.execute_reply": "2022-02-02T23:46:17.252404Z",
     "shell.execute_reply.started": "2022-02-02T23:46:17.244429Z"
    }
   },
   "outputs": [],
   "source": [
    "# see the model structure\n",
    "model.summary()"
   ]
  },
  {
   "cell_type": "code",
   "execution_count": null,
   "metadata": {
    "execution": {
     "iopub.execute_input": "2022-02-02T23:46:17.254777Z",
     "iopub.status.busy": "2022-02-02T23:46:17.254332Z",
     "iopub.status.idle": "2022-02-02T23:46:18.021535Z",
     "shell.execute_reply": "2022-02-02T23:46:18.020817Z",
     "shell.execute_reply.started": "2022-02-02T23:46:17.254744Z"
    }
   },
   "outputs": [],
   "source": [
    "# evaluate the model\n",
    "loss_and_metrics = model.evaluate(X_val, y_val, verbose=2)\n",
    "\n",
    "print(\"Val Loss\", loss_and_metrics[0])\n",
    "print(\"Val Accuracy\", loss_and_metrics[1])"
   ]
  },
  {
   "cell_type": "markdown",
   "metadata": {},
   "source": [
    "To get a handle on our training progress we also graph the learning curve for our model looking at the loss and accuracy."
   ]
  },
  {
   "cell_type": "code",
   "execution_count": null,
   "metadata": {
    "execution": {
     "iopub.execute_input": "2022-02-02T23:46:18.023192Z",
     "iopub.status.busy": "2022-02-02T23:46:18.022947Z",
     "iopub.status.idle": "2022-02-02T23:46:18.388046Z",
     "shell.execute_reply": "2022-02-02T23:46:18.38739Z",
     "shell.execute_reply.started": "2022-02-02T23:46:18.023159Z"
    }
   },
   "outputs": [],
   "source": [
    "# plotting the metrics\n",
    "fig = plt.figure(figsize=(8,6))\n",
    "plt.subplot(2,1,1)\n",
    "plt.plot(training.history['categorical_accuracy'])\n",
    "plt.plot(training.history['val_categorical_accuracy'])\n",
    "plt.title('Model Accuracy')\n",
    "plt.ylabel('accuracy')\n",
    "plt.xlabel('epoch')\n",
    "plt.legend(['train', 'val'], loc='lower right')\n",
    "\n",
    "plt.subplot(2,1,2)\n",
    "plt.plot(training.history['loss'])\n",
    "plt.plot(training.history['val_loss'])\n",
    "plt.title('Model Loss')\n",
    "plt.ylabel('loss')\n",
    "plt.xlabel('epoch')\n",
    "plt.legend(['train', 'val'], loc='upper right')\n",
    "\n",
    "plt.tight_layout()\n",
    "plt.show()"
   ]
  },
  {
   "cell_type": "markdown",
   "metadata": {},
   "source": [
    "## Predicting the target labels"
   ]
  },
  {
   "cell_type": "code",
   "execution_count": null,
   "metadata": {
    "execution": {
     "iopub.execute_input": "2022-02-02T23:46:18.389592Z",
     "iopub.status.busy": "2022-02-02T23:46:18.389325Z",
     "iopub.status.idle": "2022-02-02T23:46:20.113349Z",
     "shell.execute_reply": "2022-02-02T23:46:20.11259Z",
     "shell.execute_reply.started": "2022-02-02T23:46:18.389558Z"
    }
   },
   "outputs": [],
   "source": [
    "# predect the labels of the test dataset, and return the exact number not an array (decode it)\n",
    "y_pred = np.argmax(model.predict(df_test.to_numpy()), axis=-1)"
   ]
  },
  {
   "cell_type": "code",
   "execution_count": null,
   "metadata": {
    "execution": {
     "iopub.execute_input": "2022-02-02T23:46:20.115037Z",
     "iopub.status.busy": "2022-02-02T23:46:20.114794Z",
     "iopub.status.idle": "2022-02-02T23:46:20.300014Z",
     "shell.execute_reply": "2022-02-02T23:46:20.299363Z",
     "shell.execute_reply.started": "2022-02-02T23:46:20.115003Z"
    }
   },
   "outputs": [],
   "source": [
    "# inspect the first number in the test dataset predicted by the model\n",
    "plt.imshow(df_test.to_numpy()[0].reshape(28, 28))\n",
    "# the label of the first number\n",
    "plt.title(f\"Digit: {y_pred[0]}\")\n",
    "plt.show()"
   ]
  },
  {
   "cell_type": "markdown",
   "metadata": {},
   "source": [
    "## Submitting the predictions\n"
   ]
  },
  {
   "cell_type": "code",
   "execution_count": null,
   "metadata": {
    "execution": {
     "iopub.execute_input": "2022-02-02T23:46:20.301687Z",
     "iopub.status.busy": "2022-02-02T23:46:20.301352Z",
     "iopub.status.idle": "2022-02-02T23:46:20.36849Z",
     "shell.execute_reply": "2022-02-02T23:46:20.36784Z",
     "shell.execute_reply.started": "2022-02-02T23:46:20.301648Z"
    }
   },
   "outputs": [],
   "source": [
    "# Generate Submission File \n",
    "submission = pd.DataFrame({'ImageId':pd.Series(list(range(1, len(y_pred)+1))),\n",
    "                                   'Label':pd.Series(y_pred)})\n",
    "# save the df\n",
    "submission.to_csv(\"Submission.csv\", index=False)"
   ]
  },
  {
   "cell_type": "code",
   "execution_count": null,
   "metadata": {
    "execution": {
     "iopub.execute_input": "2022-02-02T23:46:20.369918Z",
     "iopub.status.busy": "2022-02-02T23:46:20.369664Z",
     "iopub.status.idle": "2022-02-02T23:46:20.380695Z",
     "shell.execute_reply": "2022-02-02T23:46:20.379761Z",
     "shell.execute_reply.started": "2022-02-02T23:46:20.369885Z"
    }
   },
   "outputs": [],
   "source": [
    "# preview the dubmission df\n",
    "submission"
   ]
  },
  {
   "cell_type": "markdown",
   "metadata": {},
   "source": [
    "**For any suggestions, please let me know in the comments!**"
   ]
  }
 ],
 "metadata": {
  "kernelspec": {
   "display_name": "Python 3 (ipykernel)",
   "language": "python",
   "name": "python3"
  },
  "language_info": {
   "codemirror_mode": {
    "name": "ipython",
    "version": 3
   },
   "file_extension": ".py",
   "mimetype": "text/x-python",
   "name": "python",
   "nbconvert_exporter": "python",
   "pygments_lexer": "ipython3",
   "version": "3.9.7"
  }
 },
 "nbformat": 4,
 "nbformat_minor": 4
}
