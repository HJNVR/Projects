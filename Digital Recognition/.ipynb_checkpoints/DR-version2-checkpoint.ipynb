{
 "cells": [
  {
   "cell_type": "code",
   "execution_count": 3,
   "metadata": {
    "_cell_guid": "b1076dfc-b9ad-4769-8c92-a6c4dae69d19",
    "_uuid": "8f2839f25d086af736a60e9eeb907d3b93b6e0e5",
    "execution": {
     "iopub.execute_input": "2022-02-03T12:41:55.305440Z",
     "iopub.status.busy": "2022-02-03T12:41:55.305092Z",
     "iopub.status.idle": "2022-02-03T12:42:01.967822Z",
     "shell.execute_reply": "2022-02-03T12:42:01.966753Z",
     "shell.execute_reply.started": "2022-02-03T12:41:55.305408Z"
    }
   },
   "outputs": [],
   "source": [
    "import numpy as np # linear algebra\n",
    "import pandas as pd # data processing, CSV file I/O (e.g. pd.read_csv)\n",
    "import tensorflow as tf\n",
    "from tensorflow.keras.utils import to_categorical \n",
    "import time\n",
    "from tensorflow import keras\n",
    "from tensorflow.keras import layers\n",
    "from tensorflow.keras import Sequential\n",
    "from keras.layers import Dense, BatchNormalization, Dropout\n",
    "from tensorflow.keras.layers.experimental import preprocessing\n",
    "from sklearn.model_selection import train_test_split\n",
    "import matplotlib.pyplot as plt\n",
    "import matplotlib.cm as cm\n",
    "import cv2\n",
    "  \n",
    "\n",
    "# set seed for reproducibility\n",
    "np.random.seed(0)\n",
    "\n",
    "import os\n",
    "for dirname, _, filenames in os.walk('/kaggle/input'):\n",
    "    for filename in filenames:\n",
    "        print(os.path.join(dirname, filename))"
   ]
  },
  {
   "cell_type": "code",
   "execution_count": 3,
   "metadata": {
    "execution": {
     "iopub.execute_input": "2022-02-03T11:14:25.627756Z",
     "iopub.status.busy": "2022-02-03T11:14:25.627470Z",
     "iopub.status.idle": "2022-02-03T11:14:27.725445Z",
     "shell.execute_reply": "2022-02-03T11:14:27.724816Z",
     "shell.execute_reply.started": "2022-02-03T11:14:25.627727Z"
    }
   },
   "outputs": [],
   "source": [
    "from PIL import Image, ImageFilter\n",
    "\n",
    "\n",
    "def imageprepare(argv):\n",
    "    \"\"\"\n",
    "    This function returns the pixel values.\n",
    "    The imput is a png file location.\n",
    "    \"\"\"\n",
    "    im = Image.open(argv).convert('L')\n",
    "    width = float(im.size[0])\n",
    "    height = float(im.size[1])\n",
    "    newImage = Image.new('L', (28, 28), (255))  # creates white canvas of 28x28 pixels\n",
    "\n",
    "    if width > height:  # check which dimension is bigger\n",
    "        # Width is bigger. Width becomes 20 pixels.\n",
    "        nheight = int(round((20.0 / width * height), 0))  # resize height according to ratio width\n",
    "        if (nheight == 0):  # rare case but minimum is 1 pixel\n",
    "            nheight = 1\n",
    "            # resize and sharpen\n",
    "        img = im.resize((20, nheight), Image.ANTIALIAS).filter(ImageFilter.SHARPEN)\n",
    "        wtop = int(round(((28 - nheight) / 2), 0))  # calculate horizontal position\n",
    "        newImage.paste(img, (4, wtop))  # paste resized image on white canvas\n",
    "    else:\n",
    "        # Height is bigger. Heigth becomes 20 pixels.\n",
    "        nwidth = int(round((20.0 / height * width), 0))  # resize width according to ratio height\n",
    "        if (nwidth == 0):  # rare case but minimum is 1 pixel\n",
    "            nwidth = 1\n",
    "            # resize and sharpen\n",
    "        img = im.resize((nwidth, 20), Image.ANTIALIAS).filter(ImageFilter.SHARPEN)\n",
    "        wleft = int(round(((28 - nwidth) / 2), 0))  # caculate vertical pozition\n",
    "        newImage.paste(img, (wleft, 4))  # paste resized image on white canvas\n",
    "\n",
    "    # newImage.save(\"sample.png\n",
    "\n",
    "    tv = list(newImage.getdata())  # get pixel values\n",
    "\n",
    "    # normalize pixels to 0 and 1. 0 is pure white, 1 is pure black.\n",
    "    tva = [(255 - x) * 1.0 / 255.0 for x in tv]\n",
    "    #print(tva)\n",
    "    return tva\n",
    "\n",
    "# precess input image: convert into numpy and reshape \n",
    "len_private_handwriting = 9 # this depends on the number of files in private-handwriting dataset\n",
    "private_list = []\n",
    "for i in range(1,len_private_handwriting+1):\n",
    "    path = '/kaggle/input/private-handwriting/0' + str(i) + '.png'\n",
    "    \n",
    "    img = cv2.imread(path)\n",
    "    plt.imshow(img)\n",
    "    plt.show()\n",
    "    \n",
    "    private_list.append(imageprepare(path))"
   ]
  },
  {
   "cell_type": "code",
   "execution_count": 4,
   "metadata": {
    "execution": {
     "iopub.execute_input": "2022-02-03T11:14:39.444356Z",
     "iopub.status.busy": "2022-02-03T11:14:39.443698Z",
     "iopub.status.idle": "2022-02-03T11:14:40.894320Z",
     "shell.execute_reply": "2022-02-03T11:14:40.893625Z",
     "shell.execute_reply.started": "2022-02-03T11:14:39.444321Z"
    }
   },
   "outputs": [],
   "source": [
    "for im in private_list:\n",
    "    plt.imshow(np.array(im).reshape(28,28))  # (rows, columns)\n",
    "    # the label of the first number\n",
    "    plt.show() "
   ]
  },
  {
   "cell_type": "markdown",
   "metadata": {},
   "source": [
    "## Reading the dataset"
   ]
  },
  {
   "cell_type": "code",
   "execution_count": 6,
   "metadata": {
    "execution": {
     "iopub.execute_input": "2022-02-03T11:15:42.929851Z",
     "iopub.status.busy": "2022-02-03T11:15:42.929541Z",
     "iopub.status.idle": "2022-02-03T11:15:47.976243Z",
     "shell.execute_reply": "2022-02-03T11:15:47.975573Z",
     "shell.execute_reply.started": "2022-02-03T11:15:42.929818Z"
    }
   },
   "outputs": [],
   "source": [
    "# read the data\n",
    "df_train = pd.read_csv('/kaggle/input/digit-recognizer/train.csv')\n",
    "df_test = pd.read_csv(\"/kaggle/input/digit-recognizer/test.csv\")\n",
    "\n",
    "df_train.shape, df_test.shape"
   ]
  },
  {
   "cell_type": "code",
   "execution_count": 10,
   "metadata": {
    "execution": {
     "iopub.execute_input": "2022-02-03T11:16:23.739621Z",
     "iopub.status.busy": "2022-02-03T11:16:23.739108Z",
     "iopub.status.idle": "2022-02-03T11:16:23.807035Z",
     "shell.execute_reply": "2022-02-03T11:16:23.806165Z",
     "shell.execute_reply.started": "2022-02-03T11:16:23.739585Z"
    }
   },
   "outputs": [],
   "source": [
    "new_df = pd.DataFrame(columns=df_test.columns)\n",
    "for i in range(9):\n",
    "    new_df.loc[i] = private_list[i]\n",
    "new_df"
   ]
  },
  {
   "cell_type": "code",
   "execution_count": 11,
   "metadata": {
    "execution": {
     "iopub.execute_input": "2022-02-03T11:16:30.975432Z",
     "iopub.status.busy": "2022-02-03T11:16:30.975177Z",
     "iopub.status.idle": "2022-02-03T11:16:30.996194Z",
     "shell.execute_reply": "2022-02-03T11:16:30.995198Z",
     "shell.execute_reply.started": "2022-02-03T11:16:30.975406Z"
    }
   },
   "outputs": [],
   "source": [
    "df_test.head()"
   ]
  },
  {
   "cell_type": "code",
   "execution_count": 20,
   "metadata": {
    "execution": {
     "iopub.execute_input": "2022-02-03T11:18:37.914577Z",
     "iopub.status.busy": "2022-02-03T11:18:37.914299Z",
     "iopub.status.idle": "2022-02-03T11:18:37.921641Z",
     "shell.execute_reply": "2022-02-03T11:18:37.920511Z",
     "shell.execute_reply.started": "2022-02-03T11:18:37.914548Z"
    }
   },
   "outputs": [],
   "source": [
    "y = df_train['label']\n",
    "y = to_categorical(y, num_classes=10) # split into 10 classes for the y value"
   ]
  },
  {
   "cell_type": "code",
   "execution_count": 21,
   "metadata": {
    "execution": {
     "iopub.execute_input": "2022-02-03T11:18:41.364359Z",
     "iopub.status.busy": "2022-02-03T11:18:41.364116Z",
     "iopub.status.idle": "2022-02-03T11:18:41.370192Z",
     "shell.execute_reply": "2022-02-03T11:18:41.369299Z",
     "shell.execute_reply.started": "2022-02-03T11:18:41.364333Z"
    }
   },
   "outputs": [],
   "source": [
    "y[0]"
   ]
  },
  {
   "cell_type": "code",
   "execution_count": 22,
   "metadata": {
    "execution": {
     "iopub.execute_input": "2022-02-03T11:19:39.773382Z",
     "iopub.status.busy": "2022-02-03T11:19:39.772764Z",
     "iopub.status.idle": "2022-02-03T11:19:39.778734Z",
     "shell.execute_reply": "2022-02-03T11:19:39.778086Z",
     "shell.execute_reply.started": "2022-02-03T11:19:39.773346Z"
    }
   },
   "outputs": [],
   "source": [
    "train = df_train.iloc[:,1:].values.reshape(-1,28,28,1)\n",
    "test = df_test.iloc[:,:].values.reshape(-1,28,28,1)\n",
    "new = new_df.iloc[:,:].values.reshape(-1,28,28,1)"
   ]
  },
  {
   "cell_type": "code",
   "execution_count": 23,
   "metadata": {
    "execution": {
     "iopub.execute_input": "2022-02-03T11:19:42.592609Z",
     "iopub.status.busy": "2022-02-03T11:19:42.592041Z",
     "iopub.status.idle": "2022-02-03T11:19:43.500511Z",
     "shell.execute_reply": "2022-02-03T11:19:43.499305Z",
     "shell.execute_reply.started": "2022-02-03T11:19:42.592568Z"
    }
   },
   "outputs": [],
   "source": [
    "for i in range(9):\n",
    "    plt.subplot(330 + 1 + i)\n",
    "    plt.imshow(train[i], cmap=plt.get_cmap('gray'))"
   ]
  },
  {
   "cell_type": "code",
   "execution_count": 24,
   "metadata": {
    "execution": {
     "iopub.execute_input": "2022-02-03T11:19:46.183586Z",
     "iopub.status.busy": "2022-02-03T11:19:46.183325Z",
     "iopub.status.idle": "2022-02-03T11:19:46.931309Z",
     "shell.execute_reply": "2022-02-03T11:19:46.930657Z",
     "shell.execute_reply.started": "2022-02-03T11:19:46.183557Z"
    }
   },
   "outputs": [],
   "source": [
    "for i in range(9):\n",
    "    plt.subplot(330 + 1 + i)\n",
    "    plt.imshow(test[i], cmap=plt.get_cmap('gray'))"
   ]
  },
  {
   "cell_type": "code",
   "execution_count": 25,
   "metadata": {
    "execution": {
     "iopub.execute_input": "2022-02-03T11:19:50.578196Z",
     "iopub.status.busy": "2022-02-03T11:19:50.577892Z",
     "iopub.status.idle": "2022-02-03T11:19:51.302260Z",
     "shell.execute_reply": "2022-02-03T11:19:51.301623Z",
     "shell.execute_reply.started": "2022-02-03T11:19:50.578165Z"
    }
   },
   "outputs": [],
   "source": [
    "for i in range(9):\n",
    "    plt.subplot(330 + 1 + i)\n",
    "    plt.imshow(new[i], cmap=plt.get_cmap('gray'))"
   ]
  },
  {
   "cell_type": "code",
   "execution_count": 26,
   "metadata": {
    "execution": {
     "iopub.execute_input": "2022-02-03T11:20:04.118258Z",
     "iopub.status.busy": "2022-02-03T11:20:04.118004Z",
     "iopub.status.idle": "2022-02-03T11:20:04.307300Z",
     "shell.execute_reply": "2022-02-03T11:20:04.306437Z",
     "shell.execute_reply.started": "2022-02-03T11:20:04.118231Z"
    }
   },
   "outputs": [],
   "source": [
    "train = train.reshape((train.shape[0], 28*28)).astype('float64') / 255\n",
    "test = test.reshape((test.shape[0], 28*28)).astype('float64') / 255\n",
    "new = new.reshape((new.shape[0], 28*28)).astype('float64') / 255"
   ]
  },
  {
   "cell_type": "code",
   "execution_count": 27,
   "metadata": {
    "execution": {
     "iopub.execute_input": "2022-02-03T11:20:26.846705Z",
     "iopub.status.busy": "2022-02-03T11:20:26.846102Z",
     "iopub.status.idle": "2022-02-03T11:20:26.852593Z",
     "shell.execute_reply": "2022-02-03T11:20:26.851760Z",
     "shell.execute_reply.started": "2022-02-03T11:20:26.846670Z"
    }
   },
   "outputs": [],
   "source": [
    "print('Train shape:', train.shape)\n",
    "print('Test shape:', test.shape)\n",
    "print('New shape:', new.shape)"
   ]
  },
  {
   "cell_type": "code",
   "execution_count": 28,
   "metadata": {
    "execution": {
     "iopub.execute_input": "2022-02-03T11:20:30.790155Z",
     "iopub.status.busy": "2022-02-03T11:20:30.789604Z",
     "iopub.status.idle": "2022-02-03T11:20:31.179491Z",
     "shell.execute_reply": "2022-02-03T11:20:31.178838Z",
     "shell.execute_reply.started": "2022-02-03T11:20:30.790114Z"
    }
   },
   "outputs": [],
   "source": [
    "x_train, x_val , y_train, y_val = train_test_split(train, y, test_size=0.1, random_state=42) \n",
    "x_train.shape, x_val.shape, y_train.shape, y_val.shape"
   ]
  },
  {
   "cell_type": "markdown",
   "metadata": {},
   "source": [
    "to plot the numbers we need to convert the first row in the dataframe to a numpy array, & then reshape it by (28,28) to look like an image."
   ]
  },
  {
   "cell_type": "code",
   "execution_count": 29,
   "metadata": {
    "execution": {
     "iopub.execute_input": "2022-02-03T11:21:37.923714Z",
     "iopub.status.busy": "2022-02-03T11:21:37.923277Z",
     "iopub.status.idle": "2022-02-03T11:21:38.095359Z",
     "shell.execute_reply": "2022-02-03T11:21:38.094648Z",
     "shell.execute_reply.started": "2022-02-03T11:21:37.923678Z"
    }
   },
   "outputs": [],
   "source": [
    "# view the first number\n",
    "# the reason to be 28 * 28 is that 28^2 = 784\n",
    "plt.imshow(x_train[0].reshape(28, 28))  # (rows, columns)\n",
    "# the label of the first number\n",
    "plt.title(f\"Digit: {y_train[0]}\")\n",
    "plt.show() "
   ]
  },
  {
   "cell_type": "markdown",
   "metadata": {},
   "source": [
    "### View an Image in More Detail"
   ]
  },
  {
   "cell_type": "markdown",
   "metadata": {},
   "source": [
    "## Modeling"
   ]
  },
  {
   "cell_type": "code",
   "execution_count": 30,
   "metadata": {
    "execution": {
     "iopub.execute_input": "2022-02-03T11:22:08.685494Z",
     "iopub.status.busy": "2022-02-03T11:22:08.685223Z",
     "iopub.status.idle": "2022-02-03T11:22:11.364219Z",
     "shell.execute_reply": "2022-02-03T11:22:11.362525Z",
     "shell.execute_reply.started": "2022-02-03T11:22:08.685464Z"
    }
   },
   "outputs": [],
   "source": [
    "# build the model\n",
    "model = Sequential()\n",
    "model.add(Dense(256, input_dim=784, activation='relu'))\n",
    "model.add(BatchNormalization())\n",
    "model.add(Dropout(0.2))\n",
    "model.add(Dense(64, activation='relu'))\n",
    "model.add(BatchNormalization())\n",
    "model.add(Dropout(0.2))\n",
    "model.add(Dense(10, activation='softmax'))"
   ]
  },
  {
   "cell_type": "markdown",
   "metadata": {},
   "source": [
    "Before training a model in Keras, we need to specify an *optimizer* to perform the gradient descent, a *loss function* to be minimized, and (optionally) any *performance metrics*. The optimization algorithm we'll use for this course is called [\"Adam\"](https://keras.io/api/optimizers/adam/), which generally performs well regardless of what kind of problem you're trying to solve."
   ]
  },
  {
   "cell_type": "code",
   "execution_count": 41,
   "metadata": {
    "execution": {
     "iopub.execute_input": "2022-02-03T11:25:35.197039Z",
     "iopub.status.busy": "2022-02-03T11:25:35.196485Z",
     "iopub.status.idle": "2022-02-03T11:25:35.556514Z",
     "shell.execute_reply": "2022-02-03T11:25:35.555613Z",
     "shell.execute_reply.started": "2022-02-03T11:25:35.197000Z"
    }
   },
   "outputs": [],
   "source": [
    "from keras.datasets import mnist\n",
    "from keras.utils.np_utils import to_categorical\n",
    "(x_train_1, y_train_1), (x_val_1, y_val_1) = mnist.load_data()\n",
    "print('Train: X=%s, y=%s' % (x_train_1.shape, y_train_1.shape))\n",
    "print('Test: X=%s, y=%s' % (x_val_1.shape, y_val_1.shape))"
   ]
  },
  {
   "cell_type": "code",
   "execution_count": 47,
   "metadata": {
    "execution": {
     "iopub.execute_input": "2022-02-03T11:31:06.740740Z",
     "iopub.status.busy": "2022-02-03T11:31:06.740232Z",
     "iopub.status.idle": "2022-02-03T11:31:06.896514Z",
     "shell.execute_reply": "2022-02-03T11:31:06.895811Z",
     "shell.execute_reply.started": "2022-02-03T11:31:06.740703Z"
    }
   },
   "outputs": [],
   "source": [
    "x_train_1 = x_train_1.reshape((x_train_1.shape[0], 28*28)).astype('float64') / 255\n",
    "x_val_1 = x_val_1.reshape((x_val_1.shape[0], 28*28)).astype('float64') / 255\n",
    "y_train_1 = to_categorical(y_train_1)\n",
    "y_val_1 = to_categorical(y_val_1)"
   ]
  },
  {
   "cell_type": "code",
   "execution_count": 48,
   "metadata": {
    "execution": {
     "iopub.execute_input": "2022-02-03T11:31:12.166575Z",
     "iopub.status.busy": "2022-02-03T11:31:12.166313Z",
     "iopub.status.idle": "2022-02-03T11:31:12.326551Z",
     "shell.execute_reply": "2022-02-03T11:31:12.325837Z",
     "shell.execute_reply.started": "2022-02-03T11:31:12.166547Z"
    }
   },
   "outputs": [],
   "source": [
    "new_x_train = np.concatenate((x_train_1, x_val_1), axis=0)\n",
    "new_y_train = np.concatenate((y_train_1, y_val_1), axis=0)"
   ]
  },
  {
   "cell_type": "code",
   "execution_count": 49,
   "metadata": {
    "execution": {
     "iopub.execute_input": "2022-02-03T11:31:14.987545Z",
     "iopub.status.busy": "2022-02-03T11:31:14.987282Z",
     "iopub.status.idle": "2022-02-03T11:31:14.993702Z",
     "shell.execute_reply": "2022-02-03T11:31:14.992906Z",
     "shell.execute_reply.started": "2022-02-03T11:31:14.987518Z"
    }
   },
   "outputs": [],
   "source": [
    "print('new_x_train shape:', new_x_train.shape)\n",
    "print('new_y_train shape:', new_y_train.shape)"
   ]
  },
  {
   "cell_type": "code",
   "execution_count": 50,
   "metadata": {
    "execution": {
     "iopub.execute_input": "2022-02-03T11:31:32.719923Z",
     "iopub.status.busy": "2022-02-03T11:31:32.719047Z",
     "iopub.status.idle": "2022-02-03T11:31:33.097859Z",
     "shell.execute_reply": "2022-02-03T11:31:33.097131Z",
     "shell.execute_reply.started": "2022-02-03T11:31:32.719878Z"
    }
   },
   "outputs": [],
   "source": [
    "x_val, x_test , y_val, y_test = train_test_split(train, y, test_size=0.15, random_state=42)"
   ]
  },
  {
   "cell_type": "code",
   "execution_count": 51,
   "metadata": {
    "execution": {
     "iopub.execute_input": "2022-02-03T11:31:35.932866Z",
     "iopub.status.busy": "2022-02-03T11:31:35.932602Z",
     "iopub.status.idle": "2022-02-03T11:35:58.964039Z",
     "shell.execute_reply": "2022-02-03T11:35:58.963197Z",
     "shell.execute_reply.started": "2022-02-03T11:31:35.932838Z"
    }
   },
   "outputs": [],
   "source": [
    "optimizer = tf.keras.optimizers.Adam(0.0005)\n",
    "model.compile(loss='categorical_crossentropy', optimizer=optimizer, metrics=['accuracy'])\n",
    "print(optimizer.learning_rate)\n",
    "start = time.time()\n",
    "history = model.fit(new_x_train, new_y_train, epochs=40, batch_size=64, validation_data = (x_val,y_val))\n",
    "end = time.time()\n",
    "print(\"Algorithm time is {} s:\".format(round(end-start)))"
   ]
  },
  {
   "cell_type": "markdown",
   "metadata": {},
   "source": [
    "Generally the bigger the batch, the more stable our stochastic gradient descent updates will be. But beware of GPU memory limitations! We're going for a batch size of 128 and 25 epochs."
   ]
  },
  {
   "cell_type": "code",
   "execution_count": 70,
   "metadata": {
    "execution": {
     "iopub.execute_input": "2022-02-03T11:42:23.114988Z",
     "iopub.status.busy": "2022-02-03T11:42:23.114701Z",
     "iopub.status.idle": "2022-02-03T11:42:23.526155Z",
     "shell.execute_reply": "2022-02-03T11:42:23.525477Z",
     "shell.execute_reply.started": "2022-02-03T11:42:23.114958Z"
    }
   },
   "outputs": [],
   "source": [
    "plt.rcParams[\"figure.figsize\"] = (10,10)\n",
    "fig, ax = plt.subplots(2,1)\n",
    "ax[0].plot(history.history['loss'], color='b', label=\"Training loss\")\n",
    "ax[0].plot(history.history['val_loss'], color='r', label=\"validation loss\",axes =ax[0])\n",
    "legend = ax[0].legend(loc='best', shadow=True)\n",
    "\n",
    "ax[1].plot(history.history['accuracy'], color='b', label=\"Training accuracy\")\n",
    "ax[1].plot(history.history['val_accuracy'], color='r',label=\"Validation accuracy\")\n",
    "legend = ax[1].legend(loc='best', shadow=True)"
   ]
  },
  {
   "cell_type": "code",
   "execution_count": 54,
   "metadata": {
    "execution": {
     "iopub.execute_input": "2022-02-03T11:36:01.587944Z",
     "iopub.status.busy": "2022-02-03T11:36:01.587492Z",
     "iopub.status.idle": "2022-02-03T11:36:01.597552Z",
     "shell.execute_reply": "2022-02-03T11:36:01.596798Z",
     "shell.execute_reply.started": "2022-02-03T11:36:01.587908Z"
    }
   },
   "outputs": [],
   "source": [
    "# see the model structure\n",
    "model.summary()"
   ]
  },
  {
   "cell_type": "code",
   "execution_count": 55,
   "metadata": {
    "execution": {
     "iopub.execute_input": "2022-02-03T11:36:15.912558Z",
     "iopub.status.busy": "2022-02-03T11:36:15.912189Z",
     "iopub.status.idle": "2022-02-03T11:36:16.382947Z",
     "shell.execute_reply": "2022-02-03T11:36:16.382063Z",
     "shell.execute_reply.started": "2022-02-03T11:36:15.912524Z"
    }
   },
   "outputs": [],
   "source": [
    "result = model.predict(x_test)"
   ]
  },
  {
   "cell_type": "code",
   "execution_count": 56,
   "metadata": {
    "execution": {
     "iopub.execute_input": "2022-02-03T11:36:18.704296Z",
     "iopub.status.busy": "2022-02-03T11:36:18.703555Z",
     "iopub.status.idle": "2022-02-03T11:36:18.710570Z",
     "shell.execute_reply": "2022-02-03T11:36:18.709705Z",
     "shell.execute_reply.started": "2022-02-03T11:36:18.704250Z"
    }
   },
   "outputs": [],
   "source": [
    "result"
   ]
  },
  {
   "cell_type": "code",
   "execution_count": 57,
   "metadata": {
    "execution": {
     "iopub.execute_input": "2022-02-03T11:36:23.444011Z",
     "iopub.status.busy": "2022-02-03T11:36:23.443271Z",
     "iopub.status.idle": "2022-02-03T11:36:25.686900Z",
     "shell.execute_reply": "2022-02-03T11:36:25.686133Z",
     "shell.execute_reply.started": "2022-02-03T11:36:23.443962Z"
    }
   },
   "outputs": [],
   "source": [
    "# evaluate the model\n",
    "loss_and_metrics = model.evaluate(x_val, y_val, verbose=2)\n",
    "\n",
    "print(\"Val Loss\", loss_and_metrics[0])\n",
    "print(\"Val Accuracy\", loss_and_metrics[1])"
   ]
  },
  {
   "cell_type": "code",
   "execution_count": 58,
   "metadata": {
    "execution": {
     "iopub.execute_input": "2022-02-03T11:36:32.040014Z",
     "iopub.status.busy": "2022-02-03T11:36:32.039546Z",
     "iopub.status.idle": "2022-02-03T11:36:33.598034Z",
     "shell.execute_reply": "2022-02-03T11:36:33.597282Z",
     "shell.execute_reply.started": "2022-02-03T11:36:32.039978Z"
    }
   },
   "outputs": [],
   "source": [
    "predictions = model.predict(test)\n",
    "predictions = np.argmax(predictions , axis=1)"
   ]
  },
  {
   "cell_type": "code",
   "execution_count": 59,
   "metadata": {
    "execution": {
     "iopub.execute_input": "2022-02-03T11:36:35.966138Z",
     "iopub.status.busy": "2022-02-03T11:36:35.965808Z",
     "iopub.status.idle": "2022-02-03T11:36:36.040830Z",
     "shell.execute_reply": "2022-02-03T11:36:36.040000Z",
     "shell.execute_reply.started": "2022-02-03T11:36:35.966104Z"
    }
   },
   "outputs": [],
   "source": [
    "submission=pd.read_csv('../input/digit-recognizer/sample_submission.csv')\n",
    "submission['Label']=predictions\n",
    "submission.to_csv('submission.csv', index=False)"
   ]
  },
  {
   "cell_type": "code",
   "execution_count": 60,
   "metadata": {
    "execution": {
     "iopub.execute_input": "2022-02-03T11:36:38.686968Z",
     "iopub.status.busy": "2022-02-03T11:36:38.686538Z",
     "iopub.status.idle": "2022-02-03T11:36:38.692889Z",
     "shell.execute_reply": "2022-02-03T11:36:38.692032Z",
     "shell.execute_reply.started": "2022-02-03T11:36:38.686932Z"
    }
   },
   "outputs": [],
   "source": [
    "test.shape"
   ]
  },
  {
   "cell_type": "code",
   "execution_count": 61,
   "metadata": {
    "execution": {
     "iopub.execute_input": "2022-02-03T11:36:41.244490Z",
     "iopub.status.busy": "2022-02-03T11:36:41.244038Z",
     "iopub.status.idle": "2022-02-03T11:36:41.249848Z",
     "shell.execute_reply": "2022-02-03T11:36:41.248987Z",
     "shell.execute_reply.started": "2022-02-03T11:36:41.244458Z"
    }
   },
   "outputs": [],
   "source": [
    "new.shape"
   ]
  },
  {
   "cell_type": "code",
   "execution_count": 62,
   "metadata": {
    "execution": {
     "iopub.execute_input": "2022-02-03T11:36:42.947285Z",
     "iopub.status.busy": "2022-02-03T11:36:42.946628Z",
     "iopub.status.idle": "2022-02-03T11:36:42.965028Z",
     "shell.execute_reply": "2022-02-03T11:36:42.964181Z",
     "shell.execute_reply.started": "2022-02-03T11:36:42.947247Z"
    }
   },
   "outputs": [],
   "source": [
    "test[0]"
   ]
  },
  {
   "cell_type": "code",
   "execution_count": 63,
   "metadata": {
    "execution": {
     "iopub.execute_input": "2022-02-03T11:36:47.989753Z",
     "iopub.status.busy": "2022-02-03T11:36:47.989463Z",
     "iopub.status.idle": "2022-02-03T11:36:48.018724Z",
     "shell.execute_reply": "2022-02-03T11:36:48.017978Z",
     "shell.execute_reply.started": "2022-02-03T11:36:47.989711Z"
    }
   },
   "outputs": [],
   "source": [
    "new[0]"
   ]
  },
  {
   "cell_type": "code",
   "execution_count": 65,
   "metadata": {
    "execution": {
     "iopub.execute_input": "2022-02-03T11:37:54.135397Z",
     "iopub.status.busy": "2022-02-03T11:37:54.134691Z",
     "iopub.status.idle": "2022-02-03T11:37:54.149710Z",
     "shell.execute_reply": "2022-02-03T11:37:54.148860Z",
     "shell.execute_reply.started": "2022-02-03T11:37:54.135358Z"
    }
   },
   "outputs": [],
   "source": [
    "new[1]"
   ]
  },
  {
   "cell_type": "code",
   "execution_count": 67,
   "metadata": {
    "execution": {
     "iopub.execute_input": "2022-02-03T11:39:38.563242Z",
     "iopub.status.busy": "2022-02-03T11:39:38.562655Z",
     "iopub.status.idle": "2022-02-03T11:39:38.740373Z",
     "shell.execute_reply": "2022-02-03T11:39:38.739652Z",
     "shell.execute_reply.started": "2022-02-03T11:39:38.563201Z"
    }
   },
   "outputs": [],
   "source": [
    "plt.imshow(new[1].reshape(28, 28))  # (rows, columns)\n",
    "# the label of the first number\n",
    "plt.title(f\"Digit: \")\n",
    "plt.show() "
   ]
  },
  {
   "cell_type": "code",
   "execution_count": 68,
   "metadata": {
    "execution": {
     "iopub.execute_input": "2022-02-03T11:40:24.694175Z",
     "iopub.status.busy": "2022-02-03T11:40:24.693622Z",
     "iopub.status.idle": "2022-02-03T11:40:24.866933Z",
     "shell.execute_reply": "2022-02-03T11:40:24.866271Z",
     "shell.execute_reply.started": "2022-02-03T11:40:24.694136Z"
    }
   },
   "outputs": [],
   "source": [
    "plt.imshow(test[1].reshape(28, 28))  # (rows, columns)\n",
    "# the label of the first number\n",
    "plt.title(f\"Digit: \")\n",
    "plt.show() "
   ]
  },
  {
   "cell_type": "code",
   "execution_count": 69,
   "metadata": {
    "execution": {
     "iopub.execute_input": "2022-02-03T11:40:30.382839Z",
     "iopub.status.busy": "2022-02-03T11:40:30.382549Z",
     "iopub.status.idle": "2022-02-03T11:40:30.445744Z",
     "shell.execute_reply": "2022-02-03T11:40:30.445079Z",
     "shell.execute_reply.started": "2022-02-03T11:40:30.382780Z"
    }
   },
   "outputs": [],
   "source": [
    "#1, 2, 3, 4, 5, 6, 7, 8\n",
    "np.argmax(model.predict(new), axis=1)"
   ]
  }
 ],
 "metadata": {
  "kernelspec": {
   "display_name": "Python 3 (ipykernel)",
   "language": "python",
   "name": "python3"
  },
  "language_info": {
   "codemirror_mode": {
    "name": "ipython",
    "version": 3
   },
   "file_extension": ".py",
   "mimetype": "text/x-python",
   "name": "python",
   "nbconvert_exporter": "python",
   "pygments_lexer": "ipython3",
   "version": "3.9.7"
  }
 },
 "nbformat": 4,
 "nbformat_minor": 4
}
