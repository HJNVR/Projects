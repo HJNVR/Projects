{
 "cells": [
  {
   "cell_type": "markdown",
   "id": "94a30681",
   "metadata": {},
   "source": [
    "# Q3. Sarsa"
   ]
  },
  {
   "cell_type": "code",
   "execution_count": 163,
   "id": "8b64677f",
   "metadata": {},
   "outputs": [],
   "source": [
    "import gym\n",
    "import matplotlib\n",
    "import numpy as np\n",
    "import pandas as pd\n",
    "import random\n",
    "import itertools\n",
    "import sys\n",
    "from collections import defaultdict\n",
    "from collections import namedtuple\n",
    "from matplotlib import pyplot as plt\n",
    "\n",
    "matplotlib.style.use('ggplot')\n",
    "%matplotlib inline"
   ]
  },
  {
   "cell_type": "code",
   "execution_count": 164,
   "id": "7558cd00",
   "metadata": {},
   "outputs": [
    {
     "name": "stdout",
     "output_type": "stream",
     "text": [
      "o  o  o  o  o  o  o  o  o  o  o  o\n",
      "o  o  o  o  o  o  o  o  o  o  o  o\n",
      "o  o  o  o  o  o  o  o  o  o  o  o\n",
      "x  C  C  C  C  C  C  C  C  C  C  T\n",
      "\n"
     ]
    }
   ],
   "source": [
    "env = gym.make(\"CliffWalking-v0\")\n",
    "env.reset()\n",
    "env.render()"
   ]
  },
  {
   "cell_type": "code",
   "execution_count": 165,
   "id": "1abdd210",
   "metadata": {},
   "outputs": [
    {
     "name": "stdout",
     "output_type": "stream",
     "text": [
      "Number of states: 48\n",
      "Number of actions that an agent can take: 4\n"
     ]
    }
   ],
   "source": [
    "action = [\"up\", \"right\", \"down\", \"left\"]\n",
    "\n",
    "print (\"Number of states:\", env.nS)\n",
    "print (\"Number of actions that an agent can take:\", env.nA)"
   ]
  },
  {
   "cell_type": "code",
   "execution_count": 166,
   "id": "c08f565b",
   "metadata": {},
   "outputs": [
    {
     "name": "stdout",
     "output_type": "stream",
     "text": [
      "Current state 36\n",
      "Transitions from current state: {0: [(1.0, 24, -1, False)], 1: [(1.0, 36, -100, False)], 2: [(1.0, 36, -1, False)], 3: [(1.0, 36, -1, False)]}\n"
     ]
    }
   ],
   "source": [
    "print (\"Current state\", env.s)\n",
    "print (\"Transitions from current state:\", env.P[env.s])"
   ]
  },
  {
   "cell_type": "code",
   "execution_count": 167,
   "id": "bf3bcc32",
   "metadata": {},
   "outputs": [
    {
     "name": "stdout",
     "output_type": "stream",
     "text": [
      "Action taken: up\n",
      "Transition probability: {'prob': 1.0}\n",
      "Next state: 24\n",
      "Reward recieved: -1\n",
      "Terminal state: False\n",
      "o  o  o  o  o  o  o  o  o  o  o  o\n",
      "o  o  o  o  o  o  o  o  o  o  o  o\n",
      "x  o  o  o  o  o  o  o  o  o  o  o\n",
      "o  C  C  C  C  C  C  C  C  C  C  T\n",
      "\n"
     ]
    }
   ],
   "source": [
    "rnd_action = random.randint(0, 3)\n",
    "print (\"Action taken:\", action[rnd_action])\n",
    "next_state, reward, is_terminal, t_prob = env.step(rnd_action)\n",
    "print (\"Transition probability:\", t_prob)\n",
    "print (\"Next state:\", next_state)\n",
    "print (\"Reward recieved:\", reward)\n",
    "print (\"Terminal state:\", is_terminal)\n",
    "env.render()"
   ]
  },
  {
   "cell_type": "code",
   "execution_count": 168,
   "id": "79206e1e",
   "metadata": {},
   "outputs": [],
   "source": [
    "def make_epsilon_greedy_policy(Q, epsilon, nA):\n",
    "    def policy_fn(obs):\n",
    "        pi = np.ones(nA, dtype=float) * (epsilon/nA)\n",
    "        best_action = np.argmax(Q[obs])\n",
    "        pi[best_action] += (1.0 - epsilon)\n",
    "        return pi\n",
    "    \n",
    "    return policy_fn"
   ]
  },
  {
   "cell_type": "code",
   "execution_count": 170,
   "id": "ee8ecb0a",
   "metadata": {},
   "outputs": [
    {
     "name": "stdout",
     "output_type": "stream",
     "text": [
      "Length of episode: 181347\n"
     ]
    }
   ],
   "source": [
    "def generate_episode(policy):\n",
    "    episode = []\n",
    "    env = gym.make(\"CliffWalking-v0\")\n",
    "    curr_state = env.reset()\n",
    "    probs = policy(curr_state)\n",
    "    action = np.random.choice(np.arange(len(probs)), p=probs)\n",
    "    \n",
    "    while True:\n",
    "        next_obs, reward, is_terminal, _ = env.step(action)\n",
    "        episode.append((curr_state, action, reward))\n",
    "        \n",
    "        # Pick the next action\n",
    "        next_probs = policy(next_state)\n",
    "        next_action = np.random.choice(np.arange(len(next_probs)), p=next_probs)\n",
    "    \n",
    "        curr_state = next_obs\n",
    "        action = next_action\n",
    "\n",
    "        if (is_terminal):\n",
    "            break\n",
    "\n",
    "    return episode\n",
    "    \n",
    "Q = defaultdict(lambda: np.zeros(env.action_space.n))\n",
    "policy = make_epsilon_greedy_policy(Q, 0.1, env.action_space.n)\n",
    "e = generate_episode(policy)\n",
    "print (\"Length of episode:\", len(e))"
   ]
  },
  {
   "cell_type": "code",
   "execution_count": 171,
   "id": "4777fe8c",
   "metadata": {},
   "outputs": [],
   "source": [
    "def sarsa(env, num_episodes, discount_factor=1.0, alpha=0.5, epsilon=0.1):\n",
    "  \n",
    "    Q = defaultdict(lambda: np.zeros(env.action_space.n))\n",
    "    \n",
    "    # Keeps track of useful statistics\n",
    "    EpisodeStats = namedtuple(\"Stats\",[\"episode_lengths\", \"episode_rewards\"])\n",
    "    stats = EpisodeStats(\n",
    "        episode_lengths=np.zeros(num_episodes),\n",
    "        episode_rewards=np.zeros(num_episodes))\n",
    "\n",
    "    # The policy we're following\n",
    "    policy = make_epsilon_greedy_policy(Q, epsilon, env.action_space.n)\n",
    "    \n",
    "    for i_episode in range(num_episodes):\n",
    "        # Print out which episode we're on, useful for debugging.\n",
    "        if (i_episode + 1) % 100 == 0:\n",
    "            print(\"\\rEpisode {}/{}.\".format(i_episode + 1, num_episodes), end=\"\")\n",
    "            sys.stdout.flush()\n",
    "    \n",
    "        # Reset the environment and pick the first action\n",
    "        state = env.reset()\n",
    "        probs = policy(state)\n",
    "        action = np.random.choice(np.arange(len(probs)), p=probs)\n",
    "\n",
    "        for t in itertools.count():\n",
    "            # Take a step\n",
    "            next_state, reward, is_terminal, _ = env.step(action)\n",
    "            \n",
    "            # Pick the next action\n",
    "            next_probs = policy(next_state)\n",
    "            next_action = np.random.choice(np.arange(len(next_probs)), p=next_probs)\n",
    "            \n",
    "            td_target = reward + discount_factor * Q[next_state][next_action]\n",
    "            td_error = td_target - Q[state][action]\n",
    "            Q[state][action] += alpha * td_error\n",
    "\n",
    "            stats.episode_rewards[i_episode] += reward\n",
    "            stats.episode_lengths[i_episode] = t\n",
    "\n",
    "            if is_terminal:\n",
    "                break\n",
    "            \n",
    "            state = next_state\n",
    "            action = next_action\n",
    "\n",
    "    return Q, stats"
   ]
  },
  {
   "cell_type": "code",
   "execution_count": 172,
   "id": "2c36761f",
   "metadata": {},
   "outputs": [
    {
     "name": "stdout",
     "output_type": "stream",
     "text": [
      "Episode 500/500."
     ]
    }
   ],
   "source": [
    "Q, stats = sarsa(env, 500)"
   ]
  },
  {
   "cell_type": "code",
   "execution_count": 173,
   "id": "479f855e",
   "metadata": {},
   "outputs": [],
   "source": [
    "def plot_episode_stats(stats, smoothing_window=10, noshow=False):\n",
    "\n",
    "    # Plot the episode reward over time\n",
    "    fig2 = plt.figure(figsize=(10,5))\n",
    "    rewards_smoothed = pd.Series(stats.episode_rewards).rolling(smoothing_window, \n",
    "                                                                min_periods=smoothing_window).mean()\n",
    "    plt.plot(rewards_smoothed)\n",
    "    plt.title(\"Episode Reward over Time (Smoothed over window size {})\".format(smoothing_window)) \n",
    "    plt.xlabel(\"Episode\")\n",
    "    plt.ylabel(\"Average Return (Smoothed)\")\n",
    "    \n",
    "    if noshow:\n",
    "        plt.close(fig2)\n",
    "    else:\n",
    "        plt.show(fig2)\n",
    "\n",
    "    return "
   ]
  },
  {
   "cell_type": "code",
   "execution_count": 174,
   "id": "08a90981",
   "metadata": {},
   "outputs": [
    {
     "data": {
      "image/png": "[encoded data removed]",
      "text/plain": [
       "<Figure size 720x360 with 1 Axes>"
      ]
     },
     "metadata": {
      "needs_background": "light"
     },
     "output_type": "display_data"
    }
   ],
   "source": [
    "# episode and expected rewards plot\n",
    "plot_episode_stats(stats)"
   ]
  },
  {
   "cell_type": "code",
   "execution_count": 175,
   "id": "c808b495",
   "metadata": {},
   "outputs": [
    {
     "name": "stdout",
     "output_type": "stream",
     "text": [
      "Reshaped Grid Policy:\n",
      "[[ 1  0  1  1  1  1  1  1  0  1  2  2]\n",
      " [ 1  0  1  1  0  1  1  1  0  0  1  2]\n",
      " [ 0  0  0  0  0  0  1  0  0  0  1  2]\n",
      " [ 0 -1 -1 -1 -1 -1 -1 -1 -1 -1 -1  0]]\n",
      "\n",
      "Optimal Policy:\n",
      "[['right' 'up' 'right' 'right' 'right' 'right' 'right' 'right' 'up'\n",
      "  'right' 'down' 'down']\n",
      " ['right' 'up' 'right' 'right' 'up' 'right' 'right' 'right' 'up' 'up'\n",
      "  'right' 'down']\n",
      " ['up' 'up' 'up' 'up' 'up' 'up' 'right' 'up' 'up' 'up' 'right' 'down']\n",
      " ['up' 'left' 'left' 'left' 'left' 'left' 'left' 'left' 'left' 'left'\n",
      "  'left' 'up']]\n",
      "\n",
      "Optimal Value Function:\n",
      "[[-15.75738367 -15.55632154 -14.49173364 -12.91769435 -11.25785639\n",
      "  -10.18537583  -8.68089064  -7.27713827  -8.00555746  -5.56386898\n",
      "   -4.26794441  -3.93490889]\n",
      " [-17.73605925 -16.90024413 -14.35679625 -13.33309079 -12.12317309\n",
      "  -11.57616445 -10.49521758  -9.50925336  -7.61812932  -7.07908104\n",
      "   -3.11776621  -2.54484887]\n",
      " [-17.64287625 -16.01135181 -15.09851975 -14.21251442 -13.00737322\n",
      "  -11.35296582 -10.48269381  -9.91477503  -9.20077957  -9.15587787\n",
      "   -3.24458033  -1.        ]\n",
      " [-19.17127882   0.           0.           0.           0.\n",
      "    0.           0.           0.           0.           0.\n",
      "    0.           0.        ]]\n",
      "\n"
     ]
    }
   ],
   "source": [
    "policy = np.array([np.argmax(Q[key]) if key in Q else -1 for key in np.arange(48)])\n",
    "v = ([np.max(Q[key]) if key in Q else 0 for key in np.arange(48)])\n",
    "\n",
    "print(\"Reshaped Grid Policy:\")\n",
    "actions = np.stack([action for _ in range(len(policy))], axis=0)\n",
    "print (np.reshape(policy, (4, 12)))\n",
    "print (\"\")\n",
    "\n",
    "print (\"Optimal Policy:\")\n",
    "print(np.take(actions, np.reshape(policy, (4, 12))))\n",
    "print(\"\")\n",
    "\n",
    "print(\"Optimal Value Function:\")\n",
    "print(np.reshape(v, (4, 12)))\n",
    "print(\"\")"
   ]
  },
  {
   "cell_type": "code",
   "execution_count": null,
   "id": "a3ad1252",
   "metadata": {},
   "outputs": [],
   "source": []
  },
  {
   "cell_type": "markdown",
   "id": "129d2168",
   "metadata": {},
   "source": [
    "# Q3. Q-learning"
   ]
  },
  {
   "cell_type": "code",
   "execution_count": 176,
   "id": "50cb296f",
   "metadata": {},
   "outputs": [],
   "source": [
    "def make_epsilon_greedy_policy(Q, epsilon, nA):\n",
    "    def policy_fn(obs):\n",
    "        pi = np.ones(nA, dtype=float) * (epsilon/nA)\n",
    "        best_action = np.argmax(Q[obs])\n",
    "        pi[best_action] += (1.0 - epsilon)\n",
    "        return pi\n",
    "    \n",
    "    return policy_fn"
   ]
  },
  {
   "cell_type": "code",
   "execution_count": 177,
   "id": "ed2f89e3",
   "metadata": {},
   "outputs": [],
   "source": [
    "def q_learning(env, num_episodes, discount_factor=1.0, alpha=0.5, epsilon=0.1):\n",
    "    Q = defaultdict(lambda: np.zeros(env.action_space.n))\n",
    "\n",
    "    EpisodeStats = namedtuple(\"Stats\",[\"episode_lengths\", \"episode_rewards\"])\n",
    "\n",
    "    # Keeps track of useful statistics\n",
    "    stats = EpisodeStats(\n",
    "        episode_lengths=np.zeros(num_episodes),\n",
    "        episode_rewards=np.zeros(num_episodes))    \n",
    "    \n",
    "    # The policy we're following\n",
    "    policy = make_epsilon_greedy_policy(Q, epsilon, env.action_space.n)\n",
    "    \n",
    "    for i_episode in range(num_episodes):\n",
    "        # Print out which episode we're on, useful for debugging.\n",
    "        if (i_episode + 1) % 100 == 0:\n",
    "            print(\"\\rEpisode {}/{}.\".format(i_episode + 1, num_episodes), end=\"\")\n",
    "            sys.stdout.flush()\n",
    "\n",
    "        state = env.reset()\n",
    "        probs = policy(state)\n",
    "        action = np.random.choice(np.arange(len(probs)), p=probs)\n",
    "        \n",
    "        for t in itertools.count():\n",
    "            next_state, reward, is_terminal, _ = env.step(action)\n",
    "                       \n",
    "            best_next_action = np.argmax(Q[next_state])\n",
    "            td_target = reward + discount_factor * Q[next_state][best_next_action]\n",
    "            td_error = td_target - Q[state][action]\n",
    "            Q[state][action] += alpha * td_error\n",
    "\n",
    "            stats.episode_rewards[i_episode] += reward\n",
    "            stats.episode_lengths[i_episode] = t\n",
    "\n",
    "            if is_terminal:\n",
    "                break\n",
    "            \n",
    "            state = next_state\n",
    "            action = best_next_action\n",
    "\n",
    "    return Q, stats"
   ]
  },
  {
   "cell_type": "code",
   "execution_count": 178,
   "id": "ca65a100",
   "metadata": {},
   "outputs": [
    {
     "name": "stdout",
     "output_type": "stream",
     "text": [
      "Episode 500/500."
     ]
    }
   ],
   "source": [
    "Q, stats = q_learning(env, 500)"
   ]
  },
  {
   "cell_type": "code",
   "execution_count": 179,
   "id": "9a0fbb33",
   "metadata": {},
   "outputs": [
    {
     "data": {
      "image/png": "[encoded data removed]",
      "text/plain": [
       "<Figure size 720x360 with 1 Axes>"
      ]
     },
     "metadata": {
      "needs_background": "light"
     },
     "output_type": "display_data"
    }
   ],
   "source": [
    "# episode and expected rewards plot\n",
    "plot_episode_stats(stats)"
   ]
  },
  {
   "cell_type": "code",
   "execution_count": 82,
   "id": "db0f7489",
   "metadata": {},
   "outputs": [
    {
     "name": "stdout",
     "output_type": "stream",
     "text": [
      "Reshaped Grid Policy:\n",
      "[[ 1  1  1  2  2  1  1  1  2  1  1  2]\n",
      " [ 1  1  0  1  3  1  1  2  1  1  2  2]\n",
      " [ 1  1  1  1  1  1  1  1  1  1  1  2]\n",
      " [ 0 -1 -1 -1 -1 -1 -1 -1 -1 -1 -1  0]]\n",
      "\n",
      "Optimal Policy:\n",
      "[['right' 'right' 'right' 'down' 'down' 'right' 'right' 'right' 'down'\n",
      "  'right' 'right' 'down']\n",
      " ['right' 'right' 'up' 'right' 'left' 'right' 'right' 'down' 'right'\n",
      "  'right' 'down' 'down']\n",
      " ['right' 'right' 'right' 'right' 'right' 'right' 'right' 'right' 'right'\n",
      "  'right' 'right' 'down']\n",
      " ['up' 'left' 'left' 'left' 'left' 'left' 'left' 'left' 'left' 'left'\n",
      "  'left' 'up']]\n",
      "\n",
      "Optimal Value Function:\n",
      "[[-11.1339619  -10.628736    -9.95425626  -9.1882717   -8.46938868\n",
      "   -7.64126222  -6.95511374  -6.18331443  -5.3061077   -4.5489931\n",
      "   -3.70860939  -2.94821961]\n",
      " [-11.36207581 -10.78245174  -9.89770311  -9.14756348  -8.31137949\n",
      "   -7.51620908  -6.63177683  -5.76088237  -4.84638695  -3.942866\n",
      "   -2.98186038  -1.99986803]\n",
      " [-12.         -11.         -10.          -9.          -8.\n",
      "   -7.          -6.          -5.          -4.          -3.\n",
      "   -2.          -1.        ]\n",
      " [-13.           0.           0.           0.           0.\n",
      "    0.           0.           0.           0.           0.\n",
      "    0.           0.        ]]\n",
      "\n"
     ]
    }
   ],
   "source": [
    "policy = np.array([np.argmax(Q[key]) if key in Q else -1 for key in np.arange(48)])\n",
    "v = ([np.max(Q[key]) if key in Q else 0 for key in np.arange(48)])\n",
    "\n",
    "print(\"Reshaped Grid Policy:\")\n",
    "actions = np.stack([action for _ in range(len(policy))], axis=0)\n",
    "print (np.reshape(policy, (4, 12)))\n",
    "print (\"\")\n",
    "\n",
    "print (\"Optimal Policy:\")\n",
    "print(np.take(actions, np.reshape(policy, (4, 12))))\n",
    "print(\"\")\n",
    "\n",
    "print(\"Optimal Value Function:\")\n",
    "print(np.reshape(v, (4, 12)))\n",
    "print(\"\")"
   ]
  },
  {
   "cell_type": "markdown",
   "id": "a0f60a7c",
   "metadata": {},
   "source": [
    "Word Explanation: \\\n",
    "$\\;\\;$According to the outpus above, if the starting position is the lower left, then Sarsa has the optimal policy that it will goes to the top and move to the most right and then goes down to bottom right. Q-learning will go to one step up and move to the most right and then move down to the most right. It seems that Sarsa will choose a safer path, while Q-learning will choose a more optimal but more dangerous path. According to the epoch and average rewards graphs, Q-learing converges faster than Sarsa."
   ]
  },
  {
   "cell_type": "code",
   "execution_count": null,
   "id": "382b25a5",
   "metadata": {},
   "outputs": [],
   "source": []
  },
  {
   "cell_type": "markdown",
   "id": "351e35f1",
   "metadata": {},
   "source": [
    "# Q4"
   ]
  },
  {
   "cell_type": "code",
   "execution_count": 7,
   "id": "7ffaa091",
   "metadata": {},
   "outputs": [],
   "source": [
    "import numpy as np\n",
    "import pandas as pd\n",
    "import time\n",
    "import gym\n",
    "import random\n",
    "import sys\n",
    "import matplotlib.pyplot as plt\n"
   ]
  },
  {
   "cell_type": "code",
   "execution_count": 96,
   "id": "8a6b194e",
   "metadata": {},
   "outputs": [],
   "source": [
    "class QLearning:\n",
    "    def __init__(self, learning_rate=0.1, reward_decay=0.99, e_greedy=0.9):\n",
    "        self.lr = learning_rate         \n",
    "        self.gamma = reward_decay       \n",
    "        self.epsilon = e_greedy         \n",
    "        self.num_cos = 10               \n",
    "        self.num_sin = 10               \n",
    "        self.num_dot = 10 \n",
    "        self.num_actions = 10 \n",
    "        self.actions = self.toBins(-2.0, 2.0, self.num_actions)    \n",
    "        # q-table 2d\n",
    "        self.q_table =  np.random.uniform(low=-1, high=1, size=(self.num_cos*self.num_sin*self.num_dot, self.num_actions))\n",
    "        self.cos_bins = self.toBins(-1.0, 1.0, self.num_cos)\n",
    "        self.sin_bins = self.toBins(-1.0, 1.0, self.num_sin)\n",
    "        self.dot_bins = self.toBins(-8.0, 8.0, self.num_dot)\n",
    "\n",
    "    # choose best action\n",
    "    def choose_action(self,state):\n",
    "        # if epsilon=0.9, 0.1 random\n",
    "        if np.random.uniform() < self.epsilon:\n",
    "            action = np.argmax(self.q_table[state])\n",
    "        else:\n",
    "            action = np.random.choice(self.actions)\n",
    "        action = -2 + 4/(self.num_actions-1) * action  #from discretized number to range\n",
    "        return action\n",
    "\n",
    "    # divide into intervals\n",
    "    def toBins(self,clip_min, clip_max, num):\n",
    "        return np.linspace(clip_min, clip_max, num + 1)[1:-1]\n",
    "\n",
    "    # < 5.5 -> 0, > 5.5 1\n",
    "    def digit(self,x, bin): \n",
    "        n = np.digitize(x,bins = bin)\n",
    "        return n\n",
    "\n",
    "    # Discretization\n",
    "    def digitize_state(self,observation):\n",
    "        cart_sin, cart_cos , cart_dot = observation\n",
    "        digitized = [self.digit(cart_sin,self.cos_bins),\n",
    "                    self.digit(cart_cos,self.sin_bins),\n",
    "                    self.digit(cart_dot,self.dot_bins),]\n",
    "        return (digitized[1]*self.num_cos + digitized[0]) * self.num_dot + digitized[2]\n",
    "\n",
    "    # update Q\n",
    "    def learn(self, state, action, r, next_state):\n",
    "        action = self.digit(action,self.actions)\n",
    "        next_action = np.argmax(self.q_table[next_state]) \n",
    "        q_predict = self.q_table[state, action]\n",
    "        q_target = r + self.gamma * self.q_table[next_state, next_action]  \n",
    "        self.q_table[state, action] += self.lr * (q_target - q_predict)   # update\n",
    "\n",
    "def train(num_episodes):\n",
    "    env = gym.make('Pendulum-v1', g=9.81)   \n",
    "    agent = QLearning()\n",
    "    action = [0]    \n",
    "    states = []\n",
    "    for i in range(1, num_episodes+1):  \n",
    "        observation = env.reset()  \n",
    "        state = agent.digitize_state(observation)  #Discretization\n",
    "        total_rewards = 0\n",
    "        for t in range(200):   # \n",
    "            action[0] = agent.choose_action(state)  #actions from -2 to 2\n",
    "            observation, reward, done, info = env.step(action)   \n",
    "            next_state = agent.digitize_state(observation)\n",
    "            if done:\n",
    "                reward-=200  #for some actions the fail directly, penalize more\n",
    "            if reward >= -1: # maximum reward is 0\n",
    "                reward+=40   # when cose to 0, which is the best sutition, add more rewards\n",
    "                #print('arrive')\n",
    "            # print(action,reward,done,state,next_state)\n",
    "            total_rewards += reward\n",
    "            agent.learn(state,action[0],reward,next_state)\n",
    "            state = next_state\n",
    "            if done:   #done reload new env \n",
    "                break\n",
    "        states.append(total_rewards)\n",
    "        print(\"\\rEpisode {}/{}.\".format(i, num_episodes), end=\"\")\n",
    "        sys.stdout.flush()\n",
    "        \n",
    "    env.close()\n",
    "    \n",
    "    return agent, states\n",
    "\n",
    "def test(agent):\n",
    "    env = gym.make('Pendulum-v1', g=9.81)   \n",
    "    agent.epsilon = 1 # for test, we need to make epsilon 1, since we need the potimal policy\n",
    "    observation = env.reset()  \n",
    "    state = agent.digitize_state(observation)  #Discretization\n",
    "    action = [0]    \n",
    "    for t in range(200):   # max episod: 200 each time\n",
    "        action[0] = agent.choose_action(state)  \n",
    "        observation, reward, done, info = env.step(action)   \n",
    "        next_state = agent.digitize_state(observation)\n",
    "        agent.learn(state,action[0],reward,next_state)\n",
    "        state = next_state\n",
    "        env.render()    \n",
    "        time.sleep(0.02)\n",
    "    env.close()\n"
   ]
  },
  {
   "cell_type": "code",
   "execution_count": 109,
   "id": "82b58643",
   "metadata": {},
   "outputs": [
    {
     "name": "stdout",
     "output_type": "stream",
     "text": [
      "Episode 500000/500000."
     ]
    }
   ],
   "source": [
    "agent, states = train(500000)"
   ]
  },
  {
   "cell_type": "code",
   "execution_count": 180,
   "id": "ff695361",
   "metadata": {},
   "outputs": [],
   "source": [
    "np.save('q_table.npy', agent.q_table)"
   ]
  },
  {
   "cell_type": "code",
   "execution_count": 26,
   "id": "79f9ce4a",
   "metadata": {},
   "outputs": [],
   "source": [
    "def plot_episode_stats(states, rolling_window=100):\n",
    "    \"\"\"Plot scores and optional rolling mean using specified window.\"\"\"\n",
    "    #plt.plot(scores); plt.title(\"Scores\");\n",
    "    rolling_mean = pd.Series(states).rolling(rolling_window).mean()\n",
    "    plt.plot(rolling_mean)\n",
    "    plt.title(\"Episode Reward over Time (Smoothed over window size {})\".format(rolling_window)) \n",
    "    plt.xlabel(\"Episode\")\n",
    "    plt.ylabel(\"Average Return (Smoothed)\")\n",
    "    \n",
    "    return rolling_mean"
   ]
  },
  {
   "cell_type": "code",
   "execution_count": 136,
   "id": "e24d500b",
   "metadata": {},
   "outputs": [
    {
     "data": {
      "image/png": "[encoded data removed]",
      "text/plain": [
       "<Figure size 432x288 with 1 Axes>"
      ]
     },
     "metadata": {
      "needs_background": "light"
     },
     "output_type": "display_data"
    }
   ],
   "source": [
    "rolling_mean = plot_episode_stats(states, 5000)"
   ]
  },
  {
   "cell_type": "code",
   "execution_count": 184,
   "id": "1a5315a3",
   "metadata": {},
   "outputs": [],
   "source": [
    "# test the best agent and show the animation\n",
    "test(agent)"
   ]
  },
  {
   "cell_type": "code",
   "execution_count": null,
   "id": "d7fac668",
   "metadata": {},
   "outputs": [],
   "source": [
    "#import numpy as np\n",
    "#data = np.load('q_table.npy')"
   ]
  }
 ],
 "metadata": {
  "kernelspec": {
   "display_name": "Python 3 (ipykernel)",
   "language": "python",
   "name": "python3"
  },
  "language_info": {
   "codemirror_mode": {
    "name": "ipython",
    "version": 3
   },
   "file_extension": ".py",
   "mimetype": "text/x-python",
   "name": "python",
   "nbconvert_exporter": "python",
   "pygments_lexer": "ipython3",
   "version": "3.9.0"
  }
 },
 "nbformat": 4,
 "nbformat_minor": 5
}
